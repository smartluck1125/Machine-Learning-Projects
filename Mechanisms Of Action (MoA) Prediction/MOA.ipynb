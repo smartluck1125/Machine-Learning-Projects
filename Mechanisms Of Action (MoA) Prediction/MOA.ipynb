{
 "cells": [
  {
   "cell_type": "markdown",
   "metadata": {},
   "source": [
    "# Mechanisms of Action (MoA) Prediction\n",
    "\n",
    "Helping to develop an algorithm to predict a compound’s MoA given its cellular signature, and thus, helping scientists advance the drug discovery process. [paraphrased] \n",
    "\n",
    "<img src=\"./supp/cells_moa_mike_crop.png\">\n",
    "\n",
    "**The Goal**: \"Develop an algorithm that automatically labels each case (in this case, sig_id) in the test set as one or more MoA classes. Note that since drugs can have multiple MoA annotations, the task is formally a multi-label classification problem.\"\n",
    "\n",
    "In other words, the goal is to develop a machine learning algorithm that can correctly (or try to, within some error) classify which drug (or drugs) was inhibitated, based on biological activity. In this scenario, biological activity is defined as gene expressions and cell viability of a sample of 100 cells. Since I did not know what a gene expression or cell viability was at first, I researched. Here's what I found.\n",
    "\n",
    "1. A gene is a special strand of DNA within a cell. This gene contains, like all other parts of the DNA, a collection of nucleotides. However, the nucleotides within this special strand of DNA (the gene) are in a certain sequence, and this sequence is like a recipe to building proteins for certain functions within the body. It's the sequence of the nucleotides (As, Cs, Ts and Gs) that make a strand of DNA special - and that's a gene!\n",
    "\n",
    "2. Gene expression is simply the activation of RNA transferring DNA (the gene) to the ribosomes in the cell to do protein synthesis. In other words, think of the gene as a lightbulb. Now, think of the 'expression' as the light swtich. When the lightbulb is turned on (i.e. when the gene is 'expressed'), that's the DNA telling the RNA to begin the journey to protein production. So, we can think of gene expression as what controls the gene's protein production. Note: the type of protein produced can be manipulated based on internal or external factors of the body.\n",
    "\n",
    "3. Cell Viability is the measurement of healthy, live cells in a population. Though I am not sure how they are measuring cell viability, I do know the values range from -10 to 6.412.  "
   ]
  },
  {
   "cell_type": "markdown",
   "metadata": {},
   "source": [
    "**Subjects** - that's denoted as sig_id. Harvard collected 100 cell samples from a bunch of subjects (actually, 23,814 subjects to be exact) and mapped those subjects to multiple MoA (Mechanism of Action) responses. These responses are our target values, meaning they are what we will be predicting. There are a total of 206 unique responses. \n",
    "\n",
    "**Pertubation Sample Type** - that's denoted as cp_type. It's categorical, with only two values - trt_cp (compound pertubation), and ctl_vehicle (control pertubation). Note that ctl_vehicle has no MoA responses.\n",
    "\n",
    "**Treatment Duration** - that's denoted as cp_time. It's categorical, with only three values - 24, 48, 72\n",
    "\n",
    "**Treatmennt Dose** - that's denoted as cp_dose. It's categorical, with only two values - D1 (or high doseage) and D2 (low dosage).\n",
    "\n",
    "**Gene Expression** - these features are denoted as g- in the data set. It goes from g-0 all the way to g-771.\n",
    "\n",
    "**Cell Viability** - these features are denoted as c- in the data set. It goes from c-0 all the way to c-99.\n"
   ]
  },
  {
   "cell_type": "code",
   "execution_count": 1,
   "metadata": {},
   "outputs": [],
   "source": [
    "import pandas as pd\n",
    "import numpy as np\n",
    "import seaborn as sns\n",
    "import matplotlib.pylab as plt\n",
    "from matplotlib.pylab import rcParams\n",
    "rcParams['figure.figsize'] = 20, 4\n",
    "sns.set_style(\"darkgrid\")"
   ]
  },
  {
   "cell_type": "code",
   "execution_count": 2,
   "metadata": {},
   "outputs": [],
   "source": [
    "# for the sampling\n",
    "from imblearn.over_sampling import RandomOverSampler, SMOTE, ADASYN\n",
    "from imblearn.under_sampling import RandomUnderSampler\n",
    "from imblearn.pipeline import Pipeline\n",
    "\n",
    "# for the linear models that need scaled input data\n",
    "from sklearn.preprocessing import MinMaxScaler, StandardScaler\n",
    "\n",
    "# for general modeling\n",
    "from sklearn import model_selection, pipeline, ensemble, metrics, linear_model, svm, neighbors\n",
    "from sklearn.dummy import DummyClassifier\n",
    "\n",
    "# for lda\n",
    "from sklearn.discriminant_analysis import LinearDiscriminantAnalysis\n",
    "\n",
    "# for tracking how long things take\n",
    "import time"
   ]
  },
  {
   "cell_type": "code",
   "execution_count": 3,
   "metadata": {},
   "outputs": [],
   "source": [
    "X = pd.read_csv('train_features.csv')\n",
    "test = pd.read_csv('test_features.csv')\n",
    "y = pd.read_csv('train_targets_scored.csv')\n",
    "#y_notscored = pd.read_csv('train_ys_nonscored.csv')\n",
    "#sample_submission = pd.read_csv('sample_submission.csv')\n",
    "y.drop('sig_id',axis=1,inplace=True)"
   ]
  },
  {
   "cell_type": "code",
   "execution_count": 4,
   "metadata": {},
   "outputs": [
    {
     "name": "stdout",
     "output_type": "stream",
     "text": [
      "Null values present in X: False\n",
      "Null values present in X: False\n"
     ]
    }
   ],
   "source": [
    "print(\"Null values present in X: {}\".format(X.isnull().any().any()))\n",
    "print(\"Null values present in X: {}\".format(test.isnull().any().any()))"
   ]
  },
  {
   "cell_type": "markdown",
   "metadata": {},
   "source": [
    "Plot of Cell Viability (first 10 of 100 cell samples - all subjects)"
   ]
  },
  {
   "cell_type": "code",
   "execution_count": 6,
   "metadata": {},
   "outputs": [],
   "source": [
    "call_viability_columns = list(X.columns[X.columns.str.contains('c-')])"
   ]
  },
  {
   "cell_type": "code",
   "execution_count": 7,
   "metadata": {},
   "outputs": [],
   "source": [
    "cell_data = X[call_viability_columns]"
   ]
  },
  {
   "cell_type": "code",
   "execution_count": 8,
   "metadata": {},
   "outputs": [
    {
     "name": "stdout",
     "output_type": "stream",
     "text": [
      "<class 'pandas.core.frame.DataFrame'>\n",
      "RangeIndex: 23814 entries, 0 to 23813\n",
      "Columns: 100 entries, c-0 to c-99\n",
      "dtypes: float64(100)\n",
      "memory usage: 18.2 MB\n"
     ]
    }
   ],
   "source": [
    "cell_data.info(verbose=False)"
   ]
  },
  {
   "cell_type": "code",
   "execution_count": 9,
   "metadata": {},
   "outputs": [
    {
     "name": "stdout",
     "output_type": "stream",
     "text": [
      "Min Cell Viability value: -10.0\n",
      "Max Cell Viability value: 6.412\n"
     ]
    }
   ],
   "source": [
    "print(\"Min Cell Viability value: {}\".format(cell_data.min().min()))\n",
    "print(\"Max Cell Viability value: {}\".format(cell_data.max().max()))"
   ]
  },
  {
   "cell_type": "code",
   "execution_count": 12,
   "metadata": {},
   "outputs": [
    {
     "data": {
      "text/plain": [
       "<matplotlib.axes._subplots.AxesSubplot at 0x21dab317af0>"
      ]
     },
     "execution_count": 12,
     "metadata": {},
     "output_type": "execute_result"
    },
    {
     "data": {
      "image/png": "[encoded data removed]",
      "text/plain": [
       "<Figure size 1440x288 with 1 Axes>"
      ]
     },
     "metadata": {},
     "output_type": "display_data"
    }
   ],
   "source": [
    "sns.boxplot(x='variable', y='value', data=pd.melt(cell_data.iloc[:,:10]))"
   ]
  },
  {
   "cell_type": "markdown",
   "metadata": {},
   "source": [
    "The cell viability all looks pretty normally distributed. We can tell by the box of the box-plot - its got the mean line (the horizontal line inside the box) pretty much in the box's center. Let's plot a histrogram of all the cells and see if the underlying distribution of cell viability is normally distributed."
   ]
  },
  {
   "cell_type": "code",
   "execution_count": 125,
   "metadata": {},
   "outputs": [
    {
     "data": {
      "text/plain": [
       "<matplotlib.axes._subplots.AxesSubplot at 0x28ff9b0b1c0>"
      ]
     },
     "execution_count": 125,
     "metadata": {},
     "output_type": "execute_result"
    },
    {
     "data": {
      "image/png": "[encoded data removed]",
      "text/plain": [
       "<Figure size 1440x288 with 1 Axes>"
      ]
     },
     "metadata": {},
     "output_type": "display_data"
    }
   ],
   "source": [
    "sns.distplot(cell_data.iloc[:,:], kde=False)"
   ]
  },
  {
   "cell_type": "code",
   "execution_count": 131,
   "metadata": {},
   "outputs": [
    {
     "data": {
      "text/plain": [
       "46880"
      ]
     },
     "execution_count": 131,
     "metadata": {},
     "output_type": "execute_result"
    }
   ],
   "source": [
    "# Those outliers! Let's double check.\n",
    "((cell_data>=-10) & (cell_data<-9)).sum().sum()"
   ]
  },
  {
   "cell_type": "markdown",
   "metadata": {},
   "source": [
    "Pretty normally distributed. We should note that we get about 40,000 cell samples that have a cell viability value of near -9.0 to -10.0. Those seem like severe outliers, and occur for probably every cell measured for all subjects. At least, this is what the box plot would indicate above. \n",
    "\n",
    "Next, let's plot a histogram of the *means* of the cell viability data. We know this will appear normal because of the central limit theorem. \n",
    "\n",
    "Since we have 100 cells for each subject, we'll calculate the mean value of all the cell viability values for each subject and plot that histogram."
   ]
  },
  {
   "cell_type": "code",
   "execution_count": 147,
   "metadata": {},
   "outputs": [
    {
     "data": {
      "text/plain": [
       "<matplotlib.axes._subplots.AxesSubplot at 0x28f8bfe4e20>"
      ]
     },
     "execution_count": 147,
     "metadata": {},
     "output_type": "execute_result"
    },
    {
     "data": {
      "image/png": "[encoded data removed]",
      "text/plain": [
       "<Figure size 1440x288 with 1 Axes>"
      ]
     },
     "metadata": {},
     "output_type": "display_data"
    }
   ],
   "source": [
    "sns.distplot(cell_data.mean(axis=1), kde=True)"
   ]
  },
  {
   "cell_type": "code",
   "execution_count": 166,
   "metadata": {},
   "outputs": [
    {
     "name": "stdout",
     "output_type": "stream",
     "text": [
      "Mean of our Cell Viability data: -0.43223128483244994\n",
      "Standard Deviation of our Cell Viability data: 1.7320862869924816\n"
     ]
    }
   ],
   "source": [
    "print(\"Mean of our Cell Viability data: {}\".format(cell_data.mean(axis=1).mean()))\n",
    "print(\"Standard Deviation of our Cell Viability data: {}\".format(cell_data.mean(axis=1).std()))"
   ]
  },
  {
   "cell_type": "markdown",
   "metadata": {},
   "source": [
    "Gene expression plots"
   ]
  },
  {
   "cell_type": "code",
   "execution_count": 6,
   "metadata": {},
   "outputs": [],
   "source": [
    "gene_columns = list(X.columns[X.columns.str.contains('g-')])"
   ]
  },
  {
   "cell_type": "code",
   "execution_count": 78,
   "metadata": {},
   "outputs": [],
   "source": [
    "gene_data = X[gene_columns]"
   ]
  },
  {
   "cell_type": "code",
   "execution_count": 79,
   "metadata": {},
   "outputs": [
    {
     "name": "stdout",
     "output_type": "stream",
     "text": [
      "<class 'pandas.core.frame.DataFrame'>\n",
      "RangeIndex: 23814 entries, 0 to 23813\n",
      "Columns: 772 entries, g-0 to g-771\n",
      "dtypes: float64(772)\n",
      "memory usage: 140.3 MB\n"
     ]
    }
   ],
   "source": [
    "gene_data.info()"
   ]
  },
  {
   "cell_type": "code",
   "execution_count": 157,
   "metadata": {},
   "outputs": [
    {
     "name": "stdout",
     "output_type": "stream",
     "text": [
      "Min Gene Expression value: -10.0\n",
      "Max Gene Expression value: 10.0\n"
     ]
    }
   ],
   "source": [
    "print(\"Min Gene Expression value: {}\".format(gene_data.min().min()))\n",
    "print(\"Max Gene Expression value: {}\".format(gene_data.max().max()))"
   ]
  },
  {
   "cell_type": "code",
   "execution_count": 108,
   "metadata": {},
   "outputs": [
    {
     "data": {
      "text/plain": [
       "<matplotlib.axes._subplots.AxesSubplot at 0x28f8a6204f0>"
      ]
     },
     "execution_count": 108,
     "metadata": {},
     "output_type": "execute_result"
    },
    {
     "data": {
      "image/png": "[encoded data removed]",
      "text/plain": [
       "<Figure size 1440x288 with 1 Axes>"
      ]
     },
     "metadata": {},
     "output_type": "display_data"
    }
   ],
   "source": [
    "sns.boxplot(x='variable', y='value', data=pd.melt(gene_data.iloc[:,10:20]))"
   ]
  },
  {
   "cell_type": "markdown",
   "metadata": {},
   "source": [
    "Similar to cell viability, gene expression also appears to be normally distributed. Let's plot a histogram of all the data points (like we did for cell viability). "
   ]
  },
  {
   "cell_type": "code",
   "execution_count": 132,
   "metadata": {},
   "outputs": [
    {
     "data": {
      "text/plain": [
       "<matplotlib.axes._subplots.AxesSubplot at 0x28f8b0e7ee0>"
      ]
     },
     "execution_count": 132,
     "metadata": {},
     "output_type": "execute_result"
    },
    {
     "data": {
      "image/png": "[encoded data removed]",
      "text/plain": [
       "<Figure size 1440x288 with 1 Axes>"
      ]
     },
     "metadata": {},
     "output_type": "display_data"
    }
   ],
   "source": [
    "sns.distplot(gene_data.iloc[:,:], kde=False)"
   ]
  },
  {
   "cell_type": "markdown",
   "metadata": {},
   "source": [
    "Again, like we saw before with cell viability, the gene expression data appears to be normally distributed. We do not have any stark outliers like we did in the cell viability data.\n",
    "\n",
    "Next, let's plot a histogram of the *means* of the gene expression data. We know this will appear normal because of the central limit theorem.\n",
    "\n",
    "We have 206 different gene expressions for each subject, so we'll calculate the mean value of all the gene expressions for each subject and plot that histogram."
   ]
  },
  {
   "cell_type": "code",
   "execution_count": 162,
   "metadata": {},
   "outputs": [
    {
     "data": {
      "text/plain": [
       "<matplotlib.axes._subplots.AxesSubplot at 0x28f8ccb8250>"
      ]
     },
     "execution_count": 162,
     "metadata": {},
     "output_type": "execute_result"
    },
    {
     "data": {
      "image/png": "[encoded data removed]",
      "text/plain": [
       "<Figure size 1440x288 with 1 Axes>"
      ]
     },
     "metadata": {},
     "output_type": "display_data"
    }
   ],
   "source": [
    "sns.distplot(gene_data.mean(axis=1), kde=True)"
   ]
  },
  {
   "cell_type": "code",
   "execution_count": 165,
   "metadata": {},
   "outputs": [
    {
     "name": "stdout",
     "output_type": "stream",
     "text": [
      "Mean of our Gene Expression data: 0.009009573150247764\n",
      "Standard Deviation of our Gene Expression data: 0.04866617246751549\n"
     ]
    }
   ],
   "source": [
    "print(\"Mean of our Gene Expression data: {}\".format(gene_data.mean(axis=1).mean()))\n",
    "print(\"Standard Deviation of our Gene Expression data: {}\".format(gene_data.mean(axis=1).std()))"
   ]
  },
  {
   "cell_type": "markdown",
   "metadata": {},
   "source": [
    "### Compound Data (Pertubation Type, Treatment time and Dosage)"
   ]
  },
  {
   "cell_type": "code",
   "execution_count": 4,
   "metadata": {},
   "outputs": [],
   "source": [
    "compound_columns = ['cp_type', 'cp_time', 'cp_dose']"
   ]
  },
  {
   "cell_type": "code",
   "execution_count": 5,
   "metadata": {},
   "outputs": [],
   "source": [
    "X_compound_data = X[compound_columns]"
   ]
  },
  {
   "cell_type": "code",
   "execution_count": 7,
   "metadata": {},
   "outputs": [
    {
     "name": "stdout",
     "output_type": "stream",
     "text": [
      "<class 'pandas.core.frame.DataFrame'>\n",
      "RangeIndex: 23814 entries, 0 to 23813\n",
      "Data columns (total 3 columns):\n",
      " #   Column   Non-Null Count  Dtype \n",
      "---  ------   --------------  ----- \n",
      " 0   cp_type  23814 non-null  object\n",
      " 1   cp_time  23814 non-null  int64 \n",
      " 2   cp_dose  23814 non-null  object\n",
      "dtypes: int64(1), object(2)\n",
      "memory usage: 558.3+ KB\n"
     ]
    }
   ],
   "source": [
    "X_compound_data.info()"
   ]
  },
  {
   "cell_type": "code",
   "execution_count": 12,
   "metadata": {},
   "outputs": [
    {
     "data": {
      "text/html": [
       "<div>\n",
       "<style scoped>\n",
       "    .dataframe tbody tr th:only-of-type {\n",
       "        vertical-align: middle;\n",
       "    }\n",
       "\n",
       "    .dataframe tbody tr th {\n",
       "        vertical-align: top;\n",
       "    }\n",
       "\n",
       "    .dataframe thead th {\n",
       "        text-align: right;\n",
       "    }\n",
       "</style>\n",
       "<table border=\"1\" class=\"dataframe\">\n",
       "  <thead>\n",
       "    <tr style=\"text-align: right;\">\n",
       "      <th></th>\n",
       "      <th>cp_type</th>\n",
       "      <th>cp_time</th>\n",
       "      <th>cp_dose</th>\n",
       "    </tr>\n",
       "  </thead>\n",
       "  <tbody>\n",
       "    <tr>\n",
       "      <th>24</th>\n",
       "      <td>NaN</td>\n",
       "      <td>7772.0</td>\n",
       "      <td>NaN</td>\n",
       "    </tr>\n",
       "    <tr>\n",
       "      <th>48</th>\n",
       "      <td>NaN</td>\n",
       "      <td>8250.0</td>\n",
       "      <td>NaN</td>\n",
       "    </tr>\n",
       "    <tr>\n",
       "      <th>72</th>\n",
       "      <td>NaN</td>\n",
       "      <td>7792.0</td>\n",
       "      <td>NaN</td>\n",
       "    </tr>\n",
       "    <tr>\n",
       "      <th>D1</th>\n",
       "      <td>NaN</td>\n",
       "      <td>NaN</td>\n",
       "      <td>12147.0</td>\n",
       "    </tr>\n",
       "    <tr>\n",
       "      <th>D2</th>\n",
       "      <td>NaN</td>\n",
       "      <td>NaN</td>\n",
       "      <td>11667.0</td>\n",
       "    </tr>\n",
       "    <tr>\n",
       "      <th>ctl_vehicle</th>\n",
       "      <td>1866.0</td>\n",
       "      <td>NaN</td>\n",
       "      <td>NaN</td>\n",
       "    </tr>\n",
       "    <tr>\n",
       "      <th>trt_cp</th>\n",
       "      <td>21948.0</td>\n",
       "      <td>NaN</td>\n",
       "      <td>NaN</td>\n",
       "    </tr>\n",
       "  </tbody>\n",
       "</table>\n",
       "</div>"
      ],
      "text/plain": [
       "             cp_type  cp_time  cp_dose\n",
       "24               NaN   7772.0      NaN\n",
       "48               NaN   8250.0      NaN\n",
       "72               NaN   7792.0      NaN\n",
       "D1               NaN      NaN  12147.0\n",
       "D2               NaN      NaN  11667.0\n",
       "ctl_vehicle   1866.0      NaN      NaN\n",
       "trt_cp       21948.0      NaN      NaN"
      ]
     },
     "execution_count": 12,
     "metadata": {},
     "output_type": "execute_result"
    }
   ],
   "source": [
    "X_compound_data.apply(pd.Series.value_counts)"
   ]
  },
  {
   "cell_type": "markdown",
   "metadata": {},
   "source": [
    "From what we can see above, all our compound data is categorical. In other words, these data are not continuous. "
   ]
  },
  {
   "cell_type": "code",
   "execution_count": 145,
   "metadata": {},
   "outputs": [
    {
     "data": {
      "text/plain": [
       "<matplotlib.axes._subplots.AxesSubplot at 0x10a00679790>"
      ]
     },
     "execution_count": 145,
     "metadata": {},
     "output_type": "execute_result"
    },
    {
     "data": {
      "image/png": "[encoded data removed]",
      "text/plain": [
       "<Figure size 1440x288 with 1 Axes>"
      ]
     },
     "metadata": {},
     "output_type": "display_data"
    }
   ],
   "source": [
    "sns.violinplot(x=\"cp_dose\", y=\"cp_time\", hue=\"cp_type\",data=X_compound_data, palette='Set2',inner=\"quartile\")"
   ]
  },
  {
   "cell_type": "markdown",
   "metadata": {},
   "source": [
    "And from what we can see from the violin plot, the distributions of the compound attributes compared to each other are pretty even! In other words, all three of the compound attributes are shared almost uniformally - for example, there isn't a treatment time that *only* applied to a certain doseage or compound type. \n",
    "\n",
    "However, we must note here that there is overall more data for trt_cp than the ctl_vehicle. That's because ctl_vehicle is the control pertubation, meaning subjects that got that pertubation did not receive a drug inhibition. We have less of these control pertubations than actual compound pertubations, because we care more about the cells that actually underwent gene expression changes due to drug inhibition. \n",
    "\n",
    "Let's one-hot encode all the data so we can prep it for modeling."
   ]
  },
  {
   "cell_type": "code",
   "execution_count": 6,
   "metadata": {},
   "outputs": [],
   "source": [
    "from sklearn.preprocessing import OneHotEncoder, LabelEncoder"
   ]
  },
  {
   "cell_type": "code",
   "execution_count": 7,
   "metadata": {},
   "outputs": [],
   "source": [
    "encoder = OneHotEncoder(sparse=False)"
   ]
  },
  {
   "cell_type": "code",
   "execution_count": 8,
   "metadata": {},
   "outputs": [],
   "source": [
    "# and also transform the test data\n",
    "X_compound_data_encoded = pd.DataFrame(encoder.fit_transform(X_compound_data))\n",
    "X_compound_data_encoded.columns = encoder.get_feature_names()"
   ]
  },
  {
   "cell_type": "code",
   "execution_count": 9,
   "metadata": {},
   "outputs": [],
   "source": [
    "X_encoded = pd.concat([X.drop(compound_columns,axis=1), X_compound_data_encoded ], axis=1)"
   ]
  },
  {
   "cell_type": "code",
   "execution_count": 10,
   "metadata": {},
   "outputs": [],
   "source": [
    "# and also transform the test data\n",
    "test_compound_data = test[compound_columns]\n",
    "test_compound_data_encoded = pd.DataFrame(encoder.transform(test_compound_data))\n",
    "test_compound_data_encoded.columns = encoder.get_feature_names()"
   ]
  },
  {
   "cell_type": "code",
   "execution_count": 11,
   "metadata": {},
   "outputs": [],
   "source": [
    "test_encoded = pd.concat([test.drop(compound_columns,axis=1), test_compound_data_encoded ], axis=1)"
   ]
  },
  {
   "cell_type": "markdown",
   "metadata": {},
   "source": [
    "### Target Data"
   ]
  },
  {
   "cell_type": "code",
   "execution_count": 14,
   "metadata": {},
   "outputs": [
    {
     "data": {
      "text/plain": [
       "(23814, 206)"
      ]
     },
     "execution_count": 14,
     "metadata": {},
     "output_type": "execute_result"
    }
   ],
   "source": [
    "y.shape"
   ]
  },
  {
   "cell_type": "markdown",
   "metadata": {},
   "source": [
    "We've got 206 different drugs inhibited, spread across almost 24,000 subjects. The question is in the distribution of these classes."
   ]
  },
  {
   "cell_type": "code",
   "execution_count": 44,
   "metadata": {},
   "outputs": [
    {
     "name": "stdout",
     "output_type": "stream",
     "text": [
      "Only 0.34% of all the target values belong to the positive class.\n"
     ]
    }
   ],
   "source": [
    "num_pos_classes = (y==1).sum().sum()\n",
    "num_neg_classes = (y==0).sum().sum()\n",
    "print(\"Only {:.2f}% of all the target values belong to the positive class.\".format((num_pos_classes/(num_neg_classes+num_pos_classes))*100))"
   ]
  },
  {
   "cell_type": "markdown",
   "metadata": {},
   "source": [
    "The above tells us that less than 0.5% of all the possible target values actually belong to the positive class. In other words, our target data is very sparse (lots of zeros). In machine learning, this presents a challenge in both how we model the data (i.e. which algorithm and/or methodology to use), and how we tune the parameters of the model."
   ]
  },
  {
   "cell_type": "markdown",
   "metadata": {},
   "source": [
    "### Class Imbalance\n",
    "\n",
    "In any machine learning problem, we're trying to use data to make predictions. But sometimes the training data we have, specifically the target labels (or in this case, drugs) are imbalanced. What we mean by imbalanced is that we have way more of a negative class (or '0', as it should be labeled) than we do the positive class (or '1'). Class imbalance happens pretty frequently, and thus it's important to know how treat it. \n",
    "\n",
    "\n",
    "#### A Note on Accuracy\n",
    "\n",
    "Accuracy, when used as the scoring method for class-imbalanced datasets, can be misleading.\n",
    "\n",
    "Assume we measured 100 drug-inhibited subjects, got all their cell viabilities and gene expression data, and then mapped those data to the drug. But what if one of the drugs inhibited was costly, and we didn't have enough of that drug to give to a lot of our subjects? Assume only 2 of the 100 subjects got the costly drug. Now, imagine we wanted to train a classifier to predict the costly drug based on the cell/gene data. In this case, our model would look awesome - it'd be 98% accurate! The model would just predict the negative class (i.e. the subject was not inhibited the costly drug, or '0') all the time.\n",
    "\n",
    "Is this what we need? It depends. This model would be 100% correct for all the negative classes (our true negative rate would be perfect, 1.0), but it would have 0% accuracy in terms of the positive class (a true postive rate, or sensitivity/recall would be 0). If failing to predict the positive class everytime is costly or even dangerous, then we'd consider the metric accuracy, in this case, to be misleading in terms of the performance of our model. We need to prioritize our true positive rate (the % of samples we correctly classify as having a drug inhibited).\n",
    "\n",
    "#### Approaches\n",
    "\n",
    "In this dataset, we have two approaches to the data.\n",
    "\n",
    "##### 1. Assume there is *mutual exclusivity* amongst the different drugs inhibited to the subject. \n",
    "This means that we're assuming there is no correlation between multiple drugs when inhibited to a single subject. In machine learning, we'll approach this type of problem where we train an individual classifier for each drug. However, class imbalance may lead to severe overfitting and high variability in our validation sets due to the sparse nature of the dataset. \n",
    "\n",
    "Let's calculate what the imbalance would be for each of the drugs, and check it against a threshold to get a general idea."
   ]
  },
  {
   "cell_type": "code",
   "execution_count": 49,
   "metadata": {},
   "outputs": [],
   "source": [
    "moa_class_ratios = (y.T.sum(axis=1)/y.shape[0]).rename('% of positive class')"
   ]
  },
  {
   "cell_type": "code",
   "execution_count": 54,
   "metadata": {},
   "outputs": [
    {
     "data": {
      "image/png": "[encoded data removed]",
      "text/plain": [
       "<Figure size 1440x288 with 1 Axes>"
      ]
     },
     "metadata": {},
     "output_type": "display_data"
    }
   ],
   "source": [
    "plt.hist(moa_class_ratios)\n",
    "plt.title('Class Ratios (for each drug type)')\n",
    "plt.ylabel('Drug Count')\n",
    "plt.show()"
   ]
  },
  {
   "cell_type": "markdown",
   "metadata": {},
   "source": [
    "Wow! All the drugs in this dataset have a class imbalance (of the positive class) of at most 3.5% **when looked at individually**. In other words, if we only had one drug, Drug A, and we collected 1,000 subjects's cell and gene expression data, we wouldn't have more than 35 individual subjects mapped to Drug A (or 965 subjects without it). We'll look at the pitfalls of this approach when we do a deep dive later."
   ]
  },
  {
   "cell_type": "markdown",
   "metadata": {},
   "source": [
    "##### 2. Assume there is some *mutual inclusivity* amongst the different drugs inhibited to the subjects. \n",
    "This means that if there is some correlation between multiple drugs inhibited to a single subject, we'll pick up on that. This is different than the first approach because instead of training individual classifiers for each drug, we'll train one complete classifier for all the drugs.\n",
    "\n",
    "Let's look at the number of subjects who actually had a drug inhibition mapped to them. We'll count the number of drugs they were mapped towards, and plot that distribution below."
   ]
  },
  {
   "cell_type": "code",
   "execution_count": 47,
   "metadata": {},
   "outputs": [],
   "source": [
    "mlbl_count_data = y.sum(axis=1).value_counts()"
   ]
  },
  {
   "cell_type": "code",
   "execution_count": 24,
   "metadata": {},
   "outputs": [
    {
     "data": {
      "text/plain": [
       "Text(0.5, 0, '# of multi-labels')"
      ]
     },
     "execution_count": 24,
     "metadata": {},
     "output_type": "execute_result"
    },
    {
     "data": {
      "image/png": "[encoded data removed]",
      "text/plain": [
       "<Figure size 1440x288 with 1 Axes>"
      ]
     },
     "metadata": {},
     "output_type": "display_data"
    }
   ],
   "source": [
    "sns.barplot(x=mlbl_count_data.index, y=mlbl_count_data.values/y.shape[0], palette='Set2')\n",
    "plt.ylabel('% of Samples', fontsize=12)\n",
    "plt.xlabel('# of multi-labels', fontsize=12)"
   ]
  },
  {
   "cell_type": "markdown",
   "metadata": {},
   "source": [
    "The above tells you that no more than 7 drugs were inhibited for a single subject. The majority of subjects (about 53%) had only one drug inhibited, and nearly 40% of the subjects didn't have any drugs associated to them! In other words, these subjects were administered either the control pertubation (and not the compound) or their gene expressions did not match any MoAs from the database.\n",
    "\n",
    "We can summarize this neatly by saying:\n",
    "\n",
    "1. 39% of the subjects did not have any drugs assocaited (negative label)\n",
    "2. 53% of the subjects had one drug associated (positive label)\n",
    "3. And the remaining subjects (8%) had multiple drugs associated (positive label)"
   ]
  },
  {
   "cell_type": "markdown",
   "metadata": {},
   "source": [
    "We should note that the standard ROC-AUC metric, which is the area under the curve of the True Positive Rate (TPR) and False Positive Rate (FPR), would be misleading for a dataset such as this one. Like accuracy, our ROC-AUC score would be misleading as FPR (the x-axis of the curve) contains information relating to the majority class. We want a metric that focuses solely on the minority class for any of these two reasons:\n",
    "\n",
    "1. We care more about getting the positive classes correctly predictive (in other words, the True Positive Rate, or 'recall').\n",
    "2. Our binary classification labels are heavily skewed.\n",
    "\n",
    "Thus, we'll throw out the FPR and replace it with something called precision. Precision focuses on the minority class. Here's some helpful definitions:\n",
    "\\begin{equation*}\n",
    "True Positive Rate (TPR) = Recall = \\frac{TP}{(TP+FN)}\n",
    "\\end{equation*}\n",
    "\\begin{equation*}\n",
    "False Positive Rate (FPR) = \\frac{FP}{(FP+TN)}\n",
    "\\end{equation*}\n",
    "\\begin{equation*}\n",
    "Precision = \\frac{TP}{(TP+FP)}\n",
    "\\end{equation*}\n",
    "\n",
    "We'll use the Precision-Recall area under the curve (pr-auc) metric to evaluate the skillfullness of our model, and compare this single value to other models."
   ]
  },
  {
   "cell_type": "markdown",
   "metadata": {},
   "source": [
    "## Model"
   ]
  },
  {
   "cell_type": "markdown",
   "metadata": {},
   "source": [
    "The interesting thing about this dataset is that it's multi-label. Meaning, we've got multiple subjects that were inhibited to one or more combinations of drugs. In order to get probabilities for each drug, we have a few options based on the approaches we talked about above.\n",
    "\n",
    "Approach#1\n",
    "\n",
    "    [OnevsRest] - transform this multi-label problem into multiple single-label problems. In other words, train a classifier on the dataset for each of the 206 drugs seperately. The problem here is that we assume mutually *exclusivity* of the labels. If the labels are strongly correlated, then we can probably expect this method to do worse than a method that takes all the labels into account. As we saw before, the classes are very imbalanced (<=3.5% for the positive class), and thus we should expect a great deal of overfitting (low-bias) in our training model, and most likely high variability in the testing sets.\n",
    "\n",
    "Approach#2\n",
    "    \n",
    "    [Neural Network] - Using a single-layer neural network with sigmoid output, we can get probabilities for each drug. This is the preferred method as we'll see later."
   ]
  },
  {
   "cell_type": "markdown",
   "metadata": {},
   "source": [
    "### Train-Test Split\n",
    "Let's generate a hold-out set."
   ]
  },
  {
   "cell_type": "code",
   "execution_count": 12,
   "metadata": {},
   "outputs": [],
   "source": [
    "mms = MinMaxScaler()\n",
    "X_encoded_scaled = pd.DataFrame(mms.fit_transform(X_encoded.drop('sig_id',axis=1)), columns=X_encoded.drop('sig_id',axis=1).columns)"
   ]
  },
  {
   "cell_type": "code",
   "execution_count": 13,
   "metadata": {},
   "outputs": [],
   "source": [
    "X_train_split, X_test_split, y_train_split, y_test_split = model_selection.train_test_split(X_encoded_scaled, y, \n",
    "                                                                                            shuffle=True, random_state=0, test_size=0.15)"
   ]
  },
  {
   "cell_type": "code",
   "execution_count": 14,
   "metadata": {},
   "outputs": [],
   "source": [
    "# Courtesy of https://www.kaggle.com/lane203j\n",
    "def pr_auc_score(clf, x, y):\n",
    "    '''\n",
    "        This function computes area under the precision-recall curve. \n",
    "    '''\n",
    "      \n",
    "    precisions, recalls,_ = metrics.precision_recall_curve(y, clf.predict_proba(x)[:,1], pos_label=1)\n",
    "    \n",
    "    return metrics.auc(recalls, precisions)\n",
    "\n",
    "def avg_precision_wrapper(clf, x, y):\n",
    "    y_prob = clf.predict_proba(x)\n",
    "    return metrics.average_precision_score(y, y_prob,\n",
    "                                          average='micro')\n",
    "\n",
    "def udf_log_loss(clf, x, y):\n",
    "    \n",
    "    loss = metrics.log_loss(y, clf.predict_proba(x)[:,1])\n",
    "    return loss\n",
    "\n",
    "def imbalanced_cross_validation_score(clf, x, y, cv, scoring, sampler):\n",
    "    '''\n",
    "        This function computes the cross-validation score of a given \n",
    "        classifier using a choice of sampling function to mitigate \n",
    "        the class imbalance, and stratified k-fold sampling.\n",
    "        \n",
    "        The first five arguments are the same as \n",
    "        sklearn.model_selection.cross_val_score.\n",
    "        \n",
    "        - clf.predict_proba(x) returns class label probabilities\n",
    "        - clf.fit(x,y) trains the model\n",
    "        \n",
    "        - x = data\n",
    "        \n",
    "        - y = labels\n",
    "        \n",
    "        - cv = the number of folds in the cross validation\n",
    "        \n",
    "        - scoring(classifier, x, y) returns a float\n",
    "        \n",
    "        The last argument is a choice of random sampler: an object \n",
    "        similar to the sampler objects available from the python \n",
    "        package imbalanced-learn. In particular, this \n",
    "        object needs to have the method:\n",
    "        \n",
    "        sampler.fit_sample(x,y)\n",
    "        \n",
    "        See http://contrib.scikit-learn.org/imbalanced-learn/\n",
    "        for more details and examples of other sampling objects \n",
    "        available.  \n",
    "    \n",
    "    '''\n",
    "    \n",
    "    cv_score = 0.\n",
    "    train_score = 0.\n",
    "    test_score = 0.\n",
    "    \n",
    "    # stratified k-fold creates folds with the same ratio of positive \n",
    "    # and negative samples as the entire dataset.\n",
    "    \n",
    "    skf = model_selection.StratifiedKFold(n_splits=cv, random_state=0, shuffle=True)\n",
    "    \n",
    "    for train_idx, test_idx in skf.split(x,y):\n",
    "        \n",
    "        xfold_train_sampled, yfold_train_sampled = sampler.fit_sample(x.iloc[train_idx],y.iloc[train_idx])\n",
    "        clf.fit(xfold_train_sampled, yfold_train_sampled)\n",
    "        \n",
    "        train_score = scoring(clf, xfold_train_sampled, yfold_train_sampled)\n",
    "        test_score  = scoring(clf, x.iloc[test_idx], y.iloc[test_idx])\n",
    "        \n",
    "        print(\"Train: %.2f Test: %.2f\"%(train_score,test_score))\n",
    "\n",
    "        cv_score += test_score\n",
    "        \n",
    "    return cv_score/cv\n",
    "\n",
    "# plot no skill and model roc curves\n",
    "def plot_roc_curve(test_y, naive_probs, model_probs, no_skill_model_name):\n",
    "    # plot naive skill roc curve\n",
    "    fpr, tpr, _ = metrics.roc_curve(test_y, naive_probs)\n",
    "    # get auc score\n",
    "    auc_noskill =  metrics.roc_auc_score(test_y, naive_probs)\n",
    "    plt.plot(fpr, tpr, linestyle='--', label='No Skill')\n",
    "    # plot model roc curve\n",
    "    fpr, tpr, _ = metrics.roc_curve(test_y, model_probs)\n",
    "    # get auc score\n",
    "    auc_modelskill =  metrics.roc_auc_score(test_y, model_probs)\n",
    "    plt.plot(fpr, tpr, marker='.', label=no_skill_model_name)\n",
    "    # axis labels\n",
    "    plt.xlabel('False Positive Rate')\n",
    "    plt.ylabel('True Positive Rate')\n",
    "    # show the legend\n",
    "    plt.legend()\n",
    "    # show the title\n",
    "    plt.title('No skill AUC={:.2f}, Model Skill AUC={:.2f}'.format(auc_noskill, auc_modelskill))\n",
    "    # show the plot\n",
    "    plt.show()    \n",
    "\n",
    "def plot_pr_curve(test_y, naive_probs, model_probs, no_skill_model_name):\n",
    "    # plot naive skill pr curve\n",
    "    recall, precision, _ = metrics.precision_recall_curve(test_y, naive_probs)\n",
    "    # get auc score\n",
    "    auc_noskill =  metrics.average_precision_score(test_y, naive_probs,\n",
    "                                                  average='micro')\n",
    "    plt.plot(recall, precision, linestyle='--', label='No Skill')\n",
    "    # plot model pr curve\n",
    "    recall, precision, _ = metrics.precision_recall_curve(test_y, model_probs)\n",
    "    auc_modelskill =  metrics.average_precision_score(test_y, model_probs,\n",
    "                                                  average='micro')\n",
    "    plt.plot(recall, precision, marker='.', label=no_skill_model_name)\n",
    "    # axis labels\n",
    "    plt.xlabel('Recall')\n",
    "    plt.ylabel('Precision')\n",
    "    # show the legend\n",
    "    plt.legend()\n",
    "    # show the title\n",
    "    plt.title('No skill AUC={:.2f}, Model Skill AUC={:.2f}'.format(auc_noskill, auc_modelskill))\n",
    "    # show the plot\n",
    "    plt.show()\n",
    "    \n",
    "    \n",
    "def imb_pipeline(clf, X, y, params, scoring, sampling):\n",
    "    if sampling==True:\n",
    "        model = Pipeline([\n",
    "            ('sampling', RandomOverSampler(sampling_strategy=0.1)),\n",
    "            ('classification', clf)\n",
    "        ])\n",
    "        print('Will sample on train data')\n",
    "    else:\n",
    "        model = Pipeline([\n",
    "            ('classification', clf)\n",
    "        ])\n",
    "        print('Note - no sampling being done')\n",
    "        \n",
    "    gcv = model_selection.GridSearchCV(estimator=model, param_grid=params, cv=5, scoring=scoring, n_jobs=-1,\n",
    "                       return_train_score=True)\n",
    "    gcv.fit(X, y)\n",
    "\n",
    "    return gcv\n",
    "\n",
    "def sampling_flag(y, threshold):\n",
    "    '''\n",
    "    This function takes an nx1 shaped Series and compares the positive class ratio to a given threshold. \n",
    "    \n",
    "    Returns True/False flag used in imb_pipeline \n",
    "    '''\n",
    "    flag = False\n",
    "    minority_ratio = (y.sum()/y.shape[0])\n",
    "    if minority_ratio < threshold:\n",
    "        flag = True\n",
    "    return flag"
   ]
  },
  {
   "cell_type": "code",
   "execution_count": 15,
   "metadata": {},
   "outputs": [],
   "source": [
    "# Get a list of all the MoAs to use for modelling\n",
    "moas = list(y.columns)"
   ]
  },
  {
   "cell_type": "markdown",
   "metadata": {},
   "source": [
    "### OnevsRest (Approach #1)\n",
    "\n",
    "#### Logistic Regression\n",
    "Here's an example using a generalized linear model in Logistic Regression. We'll make sure to scale the data appropriately using MinMaxScaler. This will ensure the cell and gene data are scaled, but also keep the the encoded data (from the categorical pertubation data) as binary.\n",
    "\n",
    "We'll calculate roc-auc first, then pr-auc for comparison. We want to hit home that roc-auc is misleading for this dataset. Furthermore, we'll look at a dummy classifier and see how this method compares."
   ]
  },
  {
   "cell_type": "code",
   "execution_count": 38,
   "metadata": {},
   "outputs": [],
   "source": [
    "drug = 'nfkb_inhibitor'"
   ]
  },
  {
   "cell_type": "code",
   "execution_count": 39,
   "metadata": {},
   "outputs": [
    {
     "data": {
      "text/plain": [
       "0    19533\n",
       "1      708\n",
       "Name: nfkb_inhibitor, dtype: int64"
      ]
     },
     "execution_count": 39,
     "metadata": {},
     "output_type": "execute_result"
    }
   ],
   "source": [
    "y_train_split[drug].value_counts()"
   ]
  },
  {
   "cell_type": "markdown",
   "metadata": {},
   "source": [
    "This drug has 708 positive subjects (about 3.5% of all the labels)."
   ]
  },
  {
   "cell_type": "code",
   "execution_count": 40,
   "metadata": {},
   "outputs": [],
   "source": [
    "lr_pipeline  = pipeline.Pipeline([('clf', linear_model.LogisticRegression(C=1.0,solver='sag',max_iter = 500,n_jobs=-1))])"
   ]
  },
  {
   "cell_type": "code",
   "execution_count": 41,
   "metadata": {},
   "outputs": [
    {
     "name": "stdout",
     "output_type": "stream",
     "text": [
      "Skill ROC AUC 0.966\n"
     ]
    },
    {
     "data": {
      "text/plain": [
       "32.569037675857544"
      ]
     },
     "execution_count": 41,
     "metadata": {},
     "output_type": "execute_result"
    }
   ],
   "source": [
    "ts = time.time()\n",
    "lr_pipeline.fit(X_train_split, y_train_split[drug])\n",
    "lr_pipeline_yhat = lr_pipeline.predict_proba(X_test_split)\n",
    "lr_pipeline_pos_probs = lr_pipeline_yhat[:, 1]\n",
    "# calculate roc auc\n",
    "lr_roc_auc = metrics.roc_auc_score(y_test_split[drug], lr_pipeline_pos_probs)\n",
    "print('Skill ROC AUC %.3f' % lr_roc_auc)\n",
    "time.time() - ts"
   ]
  },
  {
   "cell_type": "code",
   "execution_count": 42,
   "metadata": {},
   "outputs": [
    {
     "name": "stdout",
     "output_type": "stream",
     "text": [
      "No Skill ROC AUC 0.486\n"
     ]
    }
   ],
   "source": [
    "dummy = DummyClassifier(strategy='stratified')\n",
    "dummy.fit(X_train_split, y_train_split[drug])\n",
    "dummy_yhat = dummy.predict_proba(X_test_split)\n",
    "dummy_pos_probs = dummy_yhat[:, 1]\n",
    "# calculate roc auc\n",
    "dummy_roc_auc = metrics.roc_auc_score(y_test_split[drug], dummy_pos_probs)\n",
    "print('No Skill ROC AUC %.3f' % dummy_roc_auc)"
   ]
  },
  {
   "cell_type": "code",
   "execution_count": 43,
   "metadata": {},
   "outputs": [
    {
     "data": {
      "image/png": "[encoded data removed]",
      "text/plain": [
       "<Figure size 1440x288 with 1 Axes>"
      ]
     },
     "metadata": {},
     "output_type": "display_data"
    }
   ],
   "source": [
    "plot_roc_curve(y_test_split[drug],dummy_pos_probs,lr_pipeline_pos_probs,'logistic')"
   ]
  },
  {
   "cell_type": "markdown",
   "metadata": {},
   "source": [
    "Note that the auc-roc score is misleading. According to this score, our model splits the labels extremely well, and outperforms the 'no skill' model by ~ 90%. We achieve a sensitivity (TPR) close to 90% with at most 10% FPR.\n",
    "\n",
    "If we plot the probabilities for the test split, we'll notice the nice split. **Note**: the probabilities are for the positive class."
   ]
  },
  {
   "cell_type": "code",
   "execution_count": 44,
   "metadata": {},
   "outputs": [
    {
     "data": {
      "image/png": "[encoded data removed]",
      "text/plain": [
       "<Figure size 1440x288 with 1 Axes>"
      ]
     },
     "metadata": {},
     "output_type": "display_data"
    }
   ],
   "source": [
    "plt.hist(lr_pipeline_pos_probs, bins=100)\n",
    "plt.title('Probability Distribution for the Pos. Class [Test Set]')\n",
    "plt.show()"
   ]
  },
  {
   "cell_type": "markdown",
   "metadata": {},
   "source": [
    "Obviously, our classifier is predicting near zero probability for every subject since the majority are of the negative class. We do have some probabilities near 1.0, however. Since the probs are split evenly, let's just plot a confusion matrix (threshold=0.5) and see what we get."
   ]
  },
  {
   "cell_type": "code",
   "execution_count": 61,
   "metadata": {},
   "outputs": [
    {
     "name": "stdout",
     "output_type": "stream",
     "text": [
      "              precision    recall  f1-score   support\n",
      "\n",
      "           0       1.00      1.00      1.00      3449\n",
      "           1       0.99      0.90      0.94       124\n",
      "\n",
      "    accuracy                           1.00      3573\n",
      "   macro avg       0.99      0.95      0.97      3573\n",
      "weighted avg       1.00      1.00      1.00      3573\n",
      "\n"
     ]
    }
   ],
   "source": [
    "lr_drug_report = metrics.classification_report(y_test_split[drug], (lr_pipeline_pos_probs>0.5).astype(\"int32\"))\n",
    "print(lr_drug_report)"
   ]
  },
  {
   "cell_type": "code",
   "execution_count": 50,
   "metadata": {},
   "outputs": [
    {
     "data": {
      "image/png": "[encoded data removed]",
      "text/plain": [
       "<Figure size 1440x288 with 2 Axes>"
      ]
     },
     "metadata": {},
     "output_type": "display_data"
    }
   ],
   "source": [
    "metrics.plot_confusion_matrix(lr_pipeline, X_test_split, y_test_split[drug], cmap='Greens')\n",
    "plt.show()"
   ]
  },
  {
   "cell_type": "markdown",
   "metadata": {},
   "source": [
    "We should note the high amount of subjects belonging to the upper-left quadrant. This quadrant is the True Negative quadrant (all the subjects that were predicted to be of the negative class that actually were). In this dataset, True Negatives (TN) are skewing the roc-auc score because FPR (the x-axis in a roc curve) is a function of TNs. We don't really care all too much about TNs because of the two main reasons we mentioned above. Ideally, we want to maximize the TP and minimize FN. Therefore, let's plot a precision-recall curve and calculate the pr-auc."
   ]
  },
  {
   "cell_type": "code",
   "execution_count": 51,
   "metadata": {},
   "outputs": [
    {
     "data": {
      "image/png": "[encoded data removed]",
      "text/plain": [
       "<Figure size 1440x288 with 1 Axes>"
      ]
     },
     "metadata": {},
     "output_type": "display_data"
    }
   ],
   "source": [
    "plot_pr_curve(y_test_split[drug],dummy_pos_probs,lr_pipeline_pos_probs,'logistic')"
   ]
  },
  {
   "cell_type": "markdown",
   "metadata": {},
   "source": [
    "The score is lower than roc-auc, but that's expected. We should use this metric in optimizing our model over cross-validation."
   ]
  },
  {
   "cell_type": "markdown",
   "metadata": {},
   "source": [
    "#### Hyperparamter Tuning\n",
    "Below is an example of hyperparameter tuning. We tune multiple parameters, for two different types of classifiers. We also build a loop for each drug, so we can train individual classifiers for each one. \n",
    "\n",
    "Note that we do not actually train a classifier for each drug. This is simply an example of what you would do, but using our example drug ('nfkb_inhibitor')."
   ]
  },
  {
   "cell_type": "code",
   "execution_count": 63,
   "metadata": {},
   "outputs": [],
   "source": [
    "params = [{'classification__C': (0.005, 0.01, 0.05, 0.1, 0.5)},\n",
    "          {'classification__n_estimators': (10, 20, 40), 'classification__min_samples_split': (5, 9, 12)}]\n",
    "\n",
    "classifiers = [('Logistic Regression',\n",
    "  linear_model.LogisticRegression(max_iter=500, solver='sag',\n",
    "                     random_state=None,warm_start=False, n_jobs=None)),\n",
    " ('Random Forest Classifier',\n",
    "  ensemble.RandomForestClassifier(verbose=0,\n",
    "                             warm_start=False, n_jobs=None))]"
   ]
  },
  {
   "cell_type": "code",
   "execution_count": 64,
   "metadata": {},
   "outputs": [
    {
     "name": "stdout",
     "output_type": "stream",
     "text": [
      "Working on nfkb_inhibitor\n",
      "Working on Logistic Regression...\n",
      "Note - no sampling being done\n",
      "Best parameter for Logistic Regression is {'classification__C': 0.5}\n",
      "Best `AUPRC` for Logistic Regression is 0.8909621452294108\n",
      "--------------------------------------------------\n",
      "\n",
      "\n",
      "Working on Random Forest Classifier...\n",
      "Note - no sampling being done\n",
      "Best parameter for Random Forest Classifier is {'classification__min_samples_split': 5, 'classification__n_estimators': 10}\n",
      "Best `AUPRC` for Random Forest Classifier is 0.8911046280687376\n",
      "--------------------------------------------------\n",
      "\n",
      "\n"
     ]
    },
    {
     "data": {
      "text/plain": [
       "748.3683516979218"
      ]
     },
     "execution_count": 64,
     "metadata": {},
     "output_type": "execute_result"
    }
   ],
   "source": [
    "ts = time.time()\n",
    "drug_clfs = dict()\n",
    "for moa in moas[:1]:\n",
    "    moa = drug\n",
    "    print('Working on {}'.format(moa))\n",
    "    best_clf_score = dict()\n",
    "    for param, classifier in zip(params, classifiers):\n",
    "        print(\"Working on {}...\".format(classifier[0]))\n",
    "        clf = imb_pipeline(classifier[1], X_train_split, y_train_split[moa], param, scoring=pr_auc_score, \n",
    "                           sampling=sampling_flag(y_train_split[moa], 0.02)) \n",
    "        print(\"Best parameter for {} is {}\".format(classifier[0], clf.best_params_))\n",
    "        print(\"Best `AUPRC` for {} is {}\".format(classifier[0], clf.best_score_))\n",
    "        best_clf_score[clf.best_estimator_] = clf.best_score_\n",
    "        print('-'*50)\n",
    "        print('\\n')\n",
    "    best_estimator = max(best_clf_score, key=best_clf_score.get)\n",
    "    drug_clfs[moa] = best_estimator\n",
    "\n",
    "time.time()-ts"
   ]
  },
  {
   "cell_type": "markdown",
   "metadata": {},
   "source": [
    "We get pretty good pr-auc scores. However, recall this drug had a class imbalance of the positive class of 3.5%. Remeber that a lot of our drugs had way less than 3.5%? If we try a different drug, say '5-alpha_reductase_inhibitor'..."
   ]
  },
  {
   "cell_type": "code",
   "execution_count": 59,
   "metadata": {},
   "outputs": [
    {
     "data": {
      "text/plain": [
       "0.012831280328480776"
      ]
     },
     "execution_count": 59,
     "metadata": {},
     "output_type": "execute_result"
    }
   ],
   "source": [
    "y_train_split['acetylcholine_receptor_antagonist'].sum()/y_train_split.shape[0]"
   ]
  },
  {
   "cell_type": "markdown",
   "metadata": {},
   "source": [
    "Yikes! That's basically zero. And when that happens, even with sampling techniques, we're not going to get the minority class predicted precisely. But let's try our best with RandomOverSampling, shown below."
   ]
  },
  {
   "cell_type": "code",
   "execution_count": 64,
   "metadata": {},
   "outputs": [
    {
     "name": "stdout",
     "output_type": "stream",
     "text": [
      "Working on acetylcholine_receptor_antagonist\n",
      "Working on Logistic Regression...\n",
      "Will sample on train data\n",
      "Best parameter for Logistic Regression is {'classification__C': 0.5}\n",
      "Best `AUPRC` for Logistic Regression is 0.020530916966896823\n",
      "--------------------------------------------------\n",
      "\n",
      "\n",
      "Working on Random Forest Classifier...\n",
      "Will sample on train data\n",
      "Best parameter for Random Forest Classifier is {'classification__min_samples_split': 5, 'classification__n_estimators': 40}\n",
      "Best `AUPRC` for Random Forest Classifier is 0.020216645788755296\n",
      "--------------------------------------------------\n",
      "\n",
      "\n"
     ]
    },
    {
     "data": {
      "text/plain": [
       "290.73068356513977"
      ]
     },
     "execution_count": 64,
     "metadata": {},
     "output_type": "execute_result"
    }
   ],
   "source": [
    "ts = time.time()\n",
    "drug_clfs = dict()\n",
    "for moa in moas[:1]:\n",
    "    moa = 'acetylcholine_receptor_antagonist'\n",
    "    print('Working on {}'.format(moa))\n",
    "    best_clf_score = dict()\n",
    "    for param, classifier in zip(params, classifiers):\n",
    "        print(\"Working on {}...\".format(classifier[0]))\n",
    "        clf = imb_pipeline(classifier[1], X_train_split, y_train_split[moa], param, scoring=pr_auc_score, \n",
    "                           sampling=sampling_flag(y_train_split[moa], 0.02)) \n",
    "        print(\"Best parameter for {} is {}\".format(classifier[0], clf.best_params_))\n",
    "        print(\"Best `AUPRC` for {} is {}\".format(classifier[0], clf.best_score_))\n",
    "        best_clf_score[clf.best_estimator_] = clf.best_score_\n",
    "        print('-'*50)\n",
    "        print('\\n')\n",
    "    best_estimator = max(best_clf_score, key=best_clf_score.get)\n",
    "    drug_clfs[moa] = best_estimator\n",
    "\n",
    "time.time()-ts"
   ]
  },
  {
   "cell_type": "markdown",
   "metadata": {},
   "source": [
    "As expected, our model is performing terribly. We really cannot trust this method of OnevsRest purely because of the imbalance, which really is inherently created because of the mutual inclusivity of the labels. From now on, let's not assume mutual exclusivity and try different methods or algorithms that support this assumption."
   ]
  },
  {
   "cell_type": "markdown",
   "metadata": {},
   "source": [
    "### Neural Network\n"
   ]
  },
  {
   "cell_type": "code",
   "execution_count": 16,
   "metadata": {},
   "outputs": [],
   "source": [
    "from keras.models import Sequential\n",
    "from keras.layers import Dense, Dropout\n",
    "from keras.optimizers import SGD, Nadam\n",
    "from keras.metrics import AUC\n",
    "from keras.utils import to_categorical\n",
    "from keras.wrappers.scikit_learn import KerasClassifier \n",
    "from keras.constraints import maxnorm"
   ]
  },
  {
   "cell_type": "code",
   "execution_count": 17,
   "metadata": {},
   "outputs": [],
   "source": [
    "from scipy.stats import uniform, randint"
   ]
  },
  {
   "cell_type": "code",
   "execution_count": 18,
   "metadata": {},
   "outputs": [
    {
     "data": {
      "text/plain": [
       "206"
      ]
     },
     "execution_count": 18,
     "metadata": {},
     "output_type": "execute_result"
    }
   ],
   "source": [
    "y_train_split.shape[1]"
   ]
  },
  {
   "cell_type": "code",
   "execution_count": 19,
   "metadata": {},
   "outputs": [
    {
     "name": "stdout",
     "output_type": "stream",
     "text": [
      "879\n",
      "206\n"
     ]
    }
   ],
   "source": [
    "n_features = X_train_split.shape[1]\n",
    "print(n_features)\n",
    "output_num = y_train_split.shape[1]\n",
    "print(output_num)\n",
    "\n",
    "def create_model(learning_rate=0.001, kernel_initializer='uniform', \n",
    "                 activation ='relu', dropout_rate=0.0, weight_constraint=0,\n",
    "                neurons=200):\n",
    "    # create model\n",
    "    model = Sequential()\n",
    "    model.add(Dense(units=neurons, activation=activation, input_dim=n_features,\n",
    "                   kernel_initializer = kernel_initializer))\n",
    "    model.add(Dropout(rate=dropout_rate))\n",
    "    model.add(Dense(output_num, activation='sigmoid', kernel_initializer = kernel_initializer))\n",
    "    optimizer = Nadam(learning_rate=learning_rate)\n",
    "    # Compile model\n",
    "    model.compile(loss='binary_crossentropy', optimizer=optimizer)\n",
    "    return model"
   ]
  },
  {
   "cell_type": "code",
   "execution_count": 28,
   "metadata": {},
   "outputs": [
    {
     "name": "stdout",
     "output_type": "stream",
     "text": [
      "Epoch 1/15\n",
      "173/173 [==============================] - 1s 7ms/step - loss: 0.0326 - pr-auc: 0.0096 - val_loss: 0.0204 - val_pr-auc: 0.0126\n",
      "Epoch 2/15\n",
      "173/173 [==============================] - 1s 6ms/step - loss: 0.0197 - pr-auc: 0.0136 - val_loss: 0.0202 - val_pr-auc: 0.0185\n",
      "Epoch 3/15\n",
      "173/173 [==============================] - 1s 6ms/step - loss: 0.0193 - pr-auc: 0.0191 - val_loss: 0.0197 - val_pr-auc: 0.0263\n",
      "Epoch 4/15\n",
      "173/173 [==============================] - 1s 6ms/step - loss: 0.0190 - pr-auc: 0.0249 - val_loss: 0.0192 - val_pr-auc: 0.0296\n",
      "Epoch 5/15\n",
      "173/173 [==============================] - 1s 6ms/step - loss: 0.0187 - pr-auc: 0.0284 - val_loss: 0.0189 - val_pr-auc: 0.0339\n",
      "Epoch 6/15\n",
      "173/173 [==============================] - 1s 6ms/step - loss: 0.0184 - pr-auc: 0.0323 - val_loss: 0.0187 - val_pr-auc: 0.0379\n",
      "Epoch 7/15\n",
      "173/173 [==============================] - 1s 6ms/step - loss: 0.0182 - pr-auc: 0.0346 - val_loss: 0.0187 - val_pr-auc: 0.0405\n",
      "Epoch 8/15\n",
      "173/173 [==============================] - 1s 6ms/step - loss: 0.0181 - pr-auc: 0.0365 - val_loss: 0.0183 - val_pr-auc: 0.0421\n",
      "Epoch 9/15\n",
      "173/173 [==============================] - 1s 6ms/step - loss: 0.0179 - pr-auc: 0.0394 - val_loss: 0.0186 - val_pr-auc: 0.0423\n",
      "Epoch 10/15\n",
      "173/173 [==============================] - 1s 6ms/step - loss: 0.0178 - pr-auc: 0.0427 - val_loss: 0.0180 - val_pr-auc: 0.0454\n",
      "Epoch 11/15\n",
      "173/173 [==============================] - 1s 6ms/step - loss: 0.0177 - pr-auc: 0.0438 - val_loss: 0.0182 - val_pr-auc: 0.0470\n",
      "Epoch 12/15\n",
      "173/173 [==============================] - 1s 6ms/step - loss: 0.0176 - pr-auc: 0.0459 - val_loss: 0.0182 - val_pr-auc: 0.0519\n",
      "Epoch 13/15\n",
      "173/173 [==============================] - 1s 6ms/step - loss: 0.0175 - pr-auc: 0.0474 - val_loss: 0.0180 - val_pr-auc: 0.0488\n",
      "Epoch 14/15\n",
      "173/173 [==============================] - 1s 6ms/step - loss: 0.0174 - pr-auc: 0.0492 - val_loss: 0.0180 - val_pr-auc: 0.0527\n",
      "Epoch 15/15\n",
      "173/173 [==============================] - 1s 5ms/step - loss: 0.0173 - pr-auc: 0.0505 - val_loss: 0.0177 - val_pr-auc: 0.0525\n"
     ]
    }
   ],
   "source": [
    "history = KerasClassifier(build_fn=create_model).fit(X_train_split, y_train_split, \n",
    "                                                     validation_split = 0.15, epochs=15, \n",
    "                                                     batch_size=100, verbose=1,  use_multiprocessing=True)"
   ]
  },
  {
   "cell_type": "markdown",
   "metadata": {},
   "source": [
    "Let's plot the loss and validation loss over the epochs. In other words, our learning curve for this network. We do this so we can observe if we're overfitting. Generally, we're expecting validation to be higher than our train loss, and they should be close together."
   ]
  },
  {
   "cell_type": "code",
   "execution_count": 29,
   "metadata": {},
   "outputs": [
    {
     "data": {
      "image/png": "[encoded data removed]",
      "text/plain": [
       "<Figure size 1440x288 with 1 Axes>"
      ]
     },
     "metadata": {},
     "output_type": "display_data"
    }
   ],
   "source": [
    "loss = history.history['loss']\n",
    "epochs = range(1, len(loss) + 1)\n",
    "\n",
    "pr_auc_train = history.history['loss']\n",
    "pr_auc_valid = history.history['val_loss']\n",
    "plt.plot(epochs, pr_auc_train, 'b', label='loss')\n",
    "plt.plot(epochs, pr_auc_valid, 'y', label='val loss')\n",
    "plt.title('Training and validation - loss')\n",
    "plt.xlabel('Epochs')\n",
    "plt.ylabel('loss')\n",
    "plt.legend()\n",
    "plt.show()"
   ]
  },
  {
   "cell_type": "markdown",
   "metadata": {},
   "source": [
    "Looks like we could continue to train this network over more epochs, and expect an improvement in loss. Let's evaluate on the holdout set."
   ]
  },
  {
   "cell_type": "code",
   "execution_count": 77,
   "metadata": {},
   "outputs": [
    {
     "name": "stdout",
     "output_type": "stream",
     "text": [
      "112/112 [==============================] - 1s 9ms/step - loss: 0.0171 - pr-auc: 0.0695\n"
     ]
    },
    {
     "data": {
      "text/plain": [
       "[0.017103856429457664, 0.06954441964626312]"
      ]
     },
     "execution_count": 77,
     "metadata": {},
     "output_type": "execute_result"
    }
   ],
   "source": [
    "model.evaluate(X_test_split, y_test_split)"
   ]
  },
  {
   "cell_type": "markdown",
   "metadata": {},
   "source": [
    "Our loss looks good, but that's really because we're mostly predicting 0s for those drugs that have very few positive classes. We know this just by looking at the pr-auc score, which is a dismal 0.07.\n",
    "\n",
    "So, let's see if we can improve on that holdout set by tuning our hyperparameters using gridsearch. The hyperparameters we'll tune, in order, will be:\n",
    "\n",
    "1. optimization algorithms\n",
    "    This is the actual optimization gradiant descent algorithm that's behind the 'learning' of the neural network. We'll try several different optimization methods, choose one, and use that going forward.\n",
    "2. batch size, training epochs and learning rate\n",
    "    We'll tune both the batch size (how many training examples we'll take before we update the weights), the epochs (the number of passes through the training set), and the learning rate of the optimizer (the 'step' taken in descent direction that controls the speed at which we converge - too high and we overshoot the minima, too low and we'll either get stuck in an undesirable local minimum, or very slowly converge).\n",
    "4. network weight initialization\n",
    "    We'll choose different kernal initializers for each layer of the network. In this case, we have a very simple network of a single layer with activation function ReLU and output of sigmoid.\n",
    "5. activation functions\n",
    "6. number of neurons in the hidden layer\n",
    "    We'll adjust the total number of neurons in the sole hidden layer (along with batch size and epochs again).\n",
    "7. dropout (regularization)\n",
    "    If we're overfitting, regularization (dropout) will help here. We'll adjust both the dropout_rate of the Dropout 'layer' and the kernal weight constraint of the Dense layer that procedes it.\n"
   ]
  },
  {
   "cell_type": "code",
   "execution_count": null,
   "metadata": {},
   "outputs": [],
   "source": [
    "# create model\n",
    "model = KerasClassifier(build_fn=create_model, verbose=1, epochs=100, batch_size=60)\n",
    "\n",
    "# grid search\n",
    "batch_size = [40, 60, 80]\n",
    "epochs = [100, 125, 150]\n",
    "optimizer = ['SGD', 'RMSprop', 'Adagrad', 'Adadelta', 'Adam', 'Adamax', 'Nadam']\n",
    "param_grid = dict(optimizer = optimizer,\n",
    "                  #batch_size=batch_size, \n",
    "                  #epochs=epochs,\n",
    "                  )\n",
    "grid = model_selection.GridSearchCV(estimator=model, param_grid=param_grid, scoring = avg_precision_wrapper, \n",
    "                                    cv=3, return_train_score = True)\n",
    "grid_result = grid.fit(X_train_split, y_train_split)"
   ]
  },
  {
   "cell_type": "code",
   "execution_count": 71,
   "metadata": {},
   "outputs": [
    {
     "name": "stdout",
     "output_type": "stream",
     "text": [
      "Best: 0.297241 using {'optimizer': 'Nadam'}\n",
      "0.090162 (0.002907) with: {'optimizer': 'SGD'}\n",
      "0.245594 (0.006091) with: {'optimizer': 'RMSprop'}\n",
      "0.083633 (0.002808) with: {'optimizer': 'Adagrad'}\n",
      "0.062216 (0.011043) with: {'optimizer': 'Adadelta'}\n",
      "0.296191 (0.000708) with: {'optimizer': 'Adam'}\n",
      "0.291761 (0.002858) with: {'optimizer': 'Adamax'}\n",
      "0.297241 (0.002759) with: {'optimizer': 'Nadam'}\n"
     ]
    }
   ],
   "source": [
    "# summarize results\n",
    "print(\"Best: %f using %s\" % (grid_result.best_score_, grid_result.best_params_))\n",
    "means = grid_result.cv_results_['mean_test_score']\n",
    "stds = grid_result.cv_results_['std_test_score']\n",
    "params = grid_result.cv_results_['params']\n",
    "for mean, stdev, param in zip(means, stds, params):\n",
    "    print(\"%f (%f) with: %r\" % (mean, stdev, param))"
   ]
  },
  {
   "cell_type": "markdown",
   "metadata": {},
   "source": [
    "Looks like we achieve a mean of ~0.3 pr-auc score (with 0.002759 standard deviation) with 'Nadam'. \n",
    "\n",
    "Let's sling it with this optimizer. Next, we'll tune the learning rate along with the batch size and epochs."
   ]
  },
  {
   "cell_type": "code",
   "execution_count": null,
   "metadata": {},
   "outputs": [],
   "source": [
    "# create model\n",
    "model = KerasClassifier(build_fn=create_model, verbose=1)\n",
    "\n",
    "# grid search\n",
    "batch_size = [40, 60, 80]\n",
    "epochs = [100, 125, 150]\n",
    "learning_rate = [0.001, 0.01, 0.1, 0.2, 0.3]\n",
    "param_grid = dict(learning_rate = learning_rate,\n",
    "                  batch_size=batch_size, \n",
    "                  epochs=epochs,\n",
    "                  )\n",
    "grid = model_selection.GridSearchCV(estimator=model, param_grid=param_grid, scoring = avg_precision_wrapper, \n",
    "                                    cv=3, return_train_score = True)\n",
    "grid_result = grid.fit(X_train_split, y_train_split)"
   ]
  },
  {
   "cell_type": "code",
   "execution_count": 77,
   "metadata": {},
   "outputs": [
    {
     "name": "stdout",
     "output_type": "stream",
     "text": [
      "Best: 0.301180 using {'batch_size': 80, 'epochs': 125, 'learning_rate': 0.001}\n",
      "0.293215 (0.001602) with: {'batch_size': 40, 'epochs': 100, 'learning_rate': 0.001}\n",
      "0.192665 (0.023245) with: {'batch_size': 40, 'epochs': 100, 'learning_rate': 0.01}\n",
      "0.014822 (0.000559) with: {'batch_size': 40, 'epochs': 100, 'learning_rate': 0.1}\n",
      "0.014554 (0.000608) with: {'batch_size': 40, 'epochs': 100, 'learning_rate': 0.2}\n",
      "0.013856 (0.000825) with: {'batch_size': 40, 'epochs': 100, 'learning_rate': 0.3}\n",
      "0.292646 (0.009166) with: {'batch_size': 40, 'epochs': 125, 'learning_rate': 0.001}\n",
      "0.165622 (0.014352) with: {'batch_size': 40, 'epochs': 125, 'learning_rate': 0.01}\n",
      "0.014992 (0.000311) with: {'batch_size': 40, 'epochs': 125, 'learning_rate': 0.1}\n",
      "0.013819 (0.001455) with: {'batch_size': 40, 'epochs': 125, 'learning_rate': 0.2}\n",
      "0.014118 (0.000680) with: {'batch_size': 40, 'epochs': 125, 'learning_rate': 0.3}\n",
      "0.295685 (0.008336) with: {'batch_size': 40, 'epochs': 150, 'learning_rate': 0.001}\n",
      "0.169861 (0.050266) with: {'batch_size': 40, 'epochs': 150, 'learning_rate': 0.01}\n",
      "0.014966 (0.000839) with: {'batch_size': 40, 'epochs': 150, 'learning_rate': 0.1}\n",
      "0.014095 (0.000282) with: {'batch_size': 40, 'epochs': 150, 'learning_rate': 0.2}\n",
      "0.013223 (0.000925) with: {'batch_size': 40, 'epochs': 150, 'learning_rate': 0.3}\n",
      "0.298823 (0.005896) with: {'batch_size': 60, 'epochs': 100, 'learning_rate': 0.001}\n",
      "0.203153 (0.027666) with: {'batch_size': 60, 'epochs': 100, 'learning_rate': 0.01}\n",
      "0.014776 (0.000215) with: {'batch_size': 60, 'epochs': 100, 'learning_rate': 0.1}\n",
      "0.014191 (0.000074) with: {'batch_size': 60, 'epochs': 100, 'learning_rate': 0.2}\n",
      "0.014483 (0.000606) with: {'batch_size': 60, 'epochs': 100, 'learning_rate': 0.3}\n",
      "0.297962 (0.005586) with: {'batch_size': 60, 'epochs': 125, 'learning_rate': 0.001}\n",
      "0.227648 (0.010185) with: {'batch_size': 60, 'epochs': 125, 'learning_rate': 0.01}\n",
      "0.015210 (0.000772) with: {'batch_size': 60, 'epochs': 125, 'learning_rate': 0.1}\n",
      "0.014568 (0.000709) with: {'batch_size': 60, 'epochs': 125, 'learning_rate': 0.2}\n",
      "0.014221 (0.000460) with: {'batch_size': 60, 'epochs': 125, 'learning_rate': 0.3}\n",
      "0.300567 (0.006194) with: {'batch_size': 60, 'epochs': 150, 'learning_rate': 0.001}\n",
      "0.210797 (0.027633) with: {'batch_size': 60, 'epochs': 150, 'learning_rate': 0.01}\n",
      "0.015053 (0.000422) with: {'batch_size': 60, 'epochs': 150, 'learning_rate': 0.1}\n",
      "0.012899 (0.001346) with: {'batch_size': 60, 'epochs': 150, 'learning_rate': 0.2}\n",
      "0.013698 (0.000277) with: {'batch_size': 60, 'epochs': 150, 'learning_rate': 0.3}\n",
      "0.296137 (0.001069) with: {'batch_size': 80, 'epochs': 100, 'learning_rate': 0.001}\n",
      "0.200619 (0.018111) with: {'batch_size': 80, 'epochs': 100, 'learning_rate': 0.01}\n",
      "0.015056 (0.000579) with: {'batch_size': 80, 'epochs': 100, 'learning_rate': 0.1}\n",
      "0.014017 (0.000893) with: {'batch_size': 80, 'epochs': 100, 'learning_rate': 0.2}\n",
      "0.014134 (0.000089) with: {'batch_size': 80, 'epochs': 100, 'learning_rate': 0.3}\n",
      "0.301180 (0.005327) with: {'batch_size': 80, 'epochs': 125, 'learning_rate': 0.001}\n",
      "0.238275 (0.015443) with: {'batch_size': 80, 'epochs': 125, 'learning_rate': 0.01}\n",
      "0.014702 (0.000362) with: {'batch_size': 80, 'epochs': 125, 'learning_rate': 0.1}\n",
      "0.014886 (0.000533) with: {'batch_size': 80, 'epochs': 125, 'learning_rate': 0.2}\n",
      "0.013602 (0.001196) with: {'batch_size': 80, 'epochs': 125, 'learning_rate': 0.3}\n",
      "0.299763 (0.004976) with: {'batch_size': 80, 'epochs': 150, 'learning_rate': 0.001}\n",
      "0.223075 (0.011267) with: {'batch_size': 80, 'epochs': 150, 'learning_rate': 0.01}\n",
      "0.015092 (0.000473) with: {'batch_size': 80, 'epochs': 150, 'learning_rate': 0.1}\n",
      "0.014888 (0.000519) with: {'batch_size': 80, 'epochs': 150, 'learning_rate': 0.2}\n",
      "0.014690 (0.000557) with: {'batch_size': 80, 'epochs': 150, 'learning_rate': 0.3}\n"
     ]
    }
   ],
   "source": [
    "# summarize results\n",
    "print(\"Best: %f using %s\" % (grid_result.best_score_, grid_result.best_params_))\n",
    "means = grid_result.cv_results_['mean_test_score']\n",
    "stds = grid_result.cv_results_['std_test_score']\n",
    "params = grid_result.cv_results_['params']\n",
    "for mean, stdev, param in zip(means, stds, params):\n",
    "    print(\"%f (%f) with: %r\" % (mean, stdev, param))"
   ]
  },
  {
   "cell_type": "markdown",
   "metadata": {},
   "source": [
    "From the above, a batch size of 80 with 125 epochs at a learning rate of 0.001 gives us a best possible pr-auc of 0.30118 (0.005327 std).\n",
    "\n",
    "Next, let's tune the weight initialization between two different activation functions (ReLU and tanh)."
   ]
  },
  {
   "cell_type": "code",
   "execution_count": null,
   "metadata": {},
   "outputs": [],
   "source": [
    "# create model\n",
    "model = KerasClassifier(build_fn=create_model, verbose=0,\n",
    "                       batch_size=80, epochs=125, learning_rate=0.001)\n",
    "\n",
    "# Random search\n",
    "kernel_initializer = ['uniform', 'lecun_uniform', 'normal', 'zero', 'glorot_normal', 'glorot_uniform', 'he_normal', 'he_uniform']\n",
    "activation  = ['relu', 'tanh']\n",
    "param_grid_dist = dict(kernel_initializer = kernel_initializer, activation=activation)\n",
    "grid = model_selection.RandomizedSearchCV(estimator=model, param_distributions=param_grid_dist, scoring = avg_precision_wrapper, \n",
    "                                    cv=3, return_train_score = True, verbose=10)\n",
    "grid_result = grid.fit(X_train_split, y_train_split)"
   ]
  },
  {
   "cell_type": "code",
   "execution_count": 35,
   "metadata": {},
   "outputs": [
    {
     "name": "stdout",
     "output_type": "stream",
     "text": [
      "Best: 0.302866 using {'kernel_initializer': 'glorot_normal', 'activation': 'relu'}\n",
      "0.299974 (0.007735) with: {'kernel_initializer': 'normal', 'activation': 'relu'}\n",
      "0.277493 (0.001552) with: {'kernel_initializer': 'lecun_uniform', 'activation': 'tanh'}\n",
      "0.015220 (0.000347) with: {'kernel_initializer': 'zero', 'activation': 'relu'}\n",
      "0.015221 (0.000346) with: {'kernel_initializer': 'zero', 'activation': 'tanh'}\n",
      "0.302866 (0.006561) with: {'kernel_initializer': 'glorot_normal', 'activation': 'relu'}\n",
      "0.281643 (0.009131) with: {'kernel_initializer': 'he_uniform', 'activation': 'tanh'}\n",
      "0.276218 (0.002273) with: {'kernel_initializer': 'he_normal', 'activation': 'tanh'}\n",
      "0.287295 (0.009916) with: {'kernel_initializer': 'uniform', 'activation': 'tanh'}\n",
      "0.278358 (0.009522) with: {'kernel_initializer': 'glorot_normal', 'activation': 'tanh'}\n",
      "0.300741 (0.002385) with: {'kernel_initializer': 'glorot_uniform', 'activation': 'relu'}\n"
     ]
    }
   ],
   "source": [
    "# summarize results\n",
    "print(\"Best: %f using %s\" % (grid_result.best_score_, grid_result.best_params_))\n",
    "means = grid_result.cv_results_['mean_test_score']\n",
    "stds = grid_result.cv_results_['std_test_score']\n",
    "params = grid_result.cv_results_['params']\n",
    "for mean, stdev, param in zip(means, stds, params):\n",
    "    print(\"%f (%f) with: %r\" % (mean, stdev, param))"
   ]
  },
  {
   "cell_type": "code",
   "execution_count": 94,
   "metadata": {},
   "outputs": [
    {
     "data": {
      "text/plain": [
       "(array(2.5), array(1.25))"
      ]
     },
     "execution_count": 94,
     "metadata": {},
     "output_type": "execute_result"
    }
   ],
   "source": [
    "randint(1, 5).stats()"
   ]
  },
  {
   "cell_type": "markdown",
   "metadata": {},
   "source": [
    "Seems like the best score we can achieve is with glorot_normal paired with the activation function ReLU in the sole hidden layer. \n",
    "\n",
    "Next, let's adjust the number of neurons in the single hidden layer. By the way, <a href=\"https://en.wikipedia.org/wiki/Universal_approximation_theorem\">in theory</a>, a single layer network (which is what we're training) can achieve as good as a result as any other multi-layered network.\n",
    "\n",
    "We'll also grid search over batch size and epochs as well, as that's good practice when adjusting the hidden layer neuron count."
   ]
  },
  {
   "cell_type": "code",
   "execution_count": null,
   "metadata": {},
   "outputs": [],
   "source": [
    "# create model\n",
    "model = KerasClassifier(build_fn=create_model, verbose=0, learning_rate=0.001,\n",
    "                       kernel_initializer='glorot_normal', activation='relu',\n",
    "                       )\n",
    "\n",
    "# random search\n",
    "batch_size = [60, 80, 100]\n",
    "epochs = [100, 125, 150]\n",
    "neurons = [600, 800, 1000]\n",
    "param_grid = dict(neurons = neurons, batch_size=batch_size, epochs = epochs)\n",
    "grid = model_selection.GridSearchCV(estimator=model, param_grid=param_grid, scoring = avg_precision_wrapper, \n",
    "                                    cv=3, return_train_score = True, verbose=10)\n",
    "grid_result = grid.fit(X_train_split, y_train_split)"
   ]
  },
  {
   "cell_type": "code",
   "execution_count": 104,
   "metadata": {},
   "outputs": [
    {
     "name": "stdout",
     "output_type": "stream",
     "text": [
      "Best: 0.304749 using {'batch_size': 60, 'epochs': 125, 'neurons': 800}\n",
      "0.299189 (0.003484) with: {'batch_size': 60, 'epochs': 100, 'neurons': 600}\n",
      "0.301557 (0.004321) with: {'batch_size': 60, 'epochs': 100, 'neurons': 800}\n",
      "0.296853 (0.005878) with: {'batch_size': 60, 'epochs': 100, 'neurons': 1000}\n",
      "0.298601 (0.004629) with: {'batch_size': 60, 'epochs': 125, 'neurons': 600}\n",
      "0.304749 (0.001353) with: {'batch_size': 60, 'epochs': 125, 'neurons': 800}\n",
      "0.299503 (0.002828) with: {'batch_size': 60, 'epochs': 125, 'neurons': 1000}\n",
      "0.296374 (0.006269) with: {'batch_size': 60, 'epochs': 150, 'neurons': 600}\n",
      "0.294901 (0.008113) with: {'batch_size': 60, 'epochs': 150, 'neurons': 800}\n",
      "0.294403 (0.003244) with: {'batch_size': 60, 'epochs': 150, 'neurons': 1000}\n",
      "0.302237 (0.002653) with: {'batch_size': 80, 'epochs': 100, 'neurons': 600}\n",
      "0.302986 (0.004721) with: {'batch_size': 80, 'epochs': 100, 'neurons': 800}\n",
      "0.299595 (0.007621) with: {'batch_size': 80, 'epochs': 100, 'neurons': 1000}\n",
      "0.300905 (0.006996) with: {'batch_size': 80, 'epochs': 125, 'neurons': 600}\n",
      "0.299216 (0.005388) with: {'batch_size': 80, 'epochs': 125, 'neurons': 800}\n",
      "0.302366 (0.003662) with: {'batch_size': 80, 'epochs': 125, 'neurons': 1000}\n",
      "0.296796 (0.005994) with: {'batch_size': 80, 'epochs': 150, 'neurons': 600}\n",
      "0.297198 (0.004526) with: {'batch_size': 80, 'epochs': 150, 'neurons': 800}\n",
      "0.298732 (0.004632) with: {'batch_size': 80, 'epochs': 150, 'neurons': 1000}\n",
      "0.295125 (0.004612) with: {'batch_size': 100, 'epochs': 100, 'neurons': 600}\n",
      "0.300654 (0.006837) with: {'batch_size': 100, 'epochs': 100, 'neurons': 800}\n",
      "0.301927 (0.003960) with: {'batch_size': 100, 'epochs': 100, 'neurons': 1000}\n",
      "0.303279 (0.004070) with: {'batch_size': 100, 'epochs': 125, 'neurons': 600}\n",
      "0.304114 (0.005100) with: {'batch_size': 100, 'epochs': 125, 'neurons': 800}\n",
      "0.303387 (0.000367) with: {'batch_size': 100, 'epochs': 125, 'neurons': 1000}\n",
      "0.298168 (0.005699) with: {'batch_size': 100, 'epochs': 150, 'neurons': 600}\n",
      "0.303622 (0.005321) with: {'batch_size': 100, 'epochs': 150, 'neurons': 800}\n",
      "0.302003 (0.005119) with: {'batch_size': 100, 'epochs': 150, 'neurons': 1000}\n"
     ]
    }
   ],
   "source": [
    "# summarize results\n",
    "print(\"Best: %f using %s\" % (grid_result.best_score_, grid_result.best_params_))\n",
    "means = grid_result.cv_results_['mean_test_score']\n",
    "stds = grid_result.cv_results_['std_test_score']\n",
    "params = grid_result.cv_results_['params']\n",
    "for mean, stdev, param in zip(means, stds, params):\n",
    "    print(\"%f (%f) with: %r\" % (mean, stdev, param))"
   ]
  },
  {
   "cell_type": "markdown",
   "metadata": {},
   "source": [
    "Looks like 800 neurons at a batch size and epochs of 60 and 125, respectively, gives us a best mean pr-auc of 0.304749. Note that we hit the floor for the batch size, but considering the results thus far, the tradeoff of not investigating smaller batch sizes is probably small.\n",
    "\n",
    "Let's tune our regularization (dropout) to see if we can generalize better."
   ]
  },
  {
   "cell_type": "code",
   "execution_count": null,
   "metadata": {},
   "outputs": [],
   "source": [
    "# create model\n",
    "model = KerasClassifier(build_fn=create_model, verbose=0, learning_rate=0.001,\n",
    "                       kernel_initializer='glorot_normal', activation='relu',\n",
    "                       batch_size=60, epochs=125, neurons=800\n",
    "                       )\n",
    "\n",
    "# random search\n",
    "weight_constraint = [1, 2, 3]\n",
    "dropout_rate = [0.05, 0.1, 0.15]\n",
    "param_grid = dict(dropout_rate = dropout_rate, weight_constraint=weight_constraint)\n",
    "grid = model_selection.GridSearchCV(estimator=model, param_grid=param_grid, scoring = avg_precision_wrapper, \n",
    "                                    cv=3, return_train_score = True, verbose=10)\n",
    "grid_result = grid.fit(X_train_split, y_train_split)"
   ]
  },
  {
   "cell_type": "code",
   "execution_count": 106,
   "metadata": {},
   "outputs": [
    {
     "name": "stdout",
     "output_type": "stream",
     "text": [
      "Best: 0.307885 using {'dropout_rate': 0.15, 'weight_constraint': 1}\n",
      "0.298712 (0.000363) with: {'dropout_rate': 0.05, 'weight_constraint': 1}\n",
      "0.301443 (0.007521) with: {'dropout_rate': 0.05, 'weight_constraint': 2}\n",
      "0.307361 (0.003717) with: {'dropout_rate': 0.05, 'weight_constraint': 3}\n",
      "0.304632 (0.001698) with: {'dropout_rate': 0.1, 'weight_constraint': 1}\n",
      "0.307229 (0.004108) with: {'dropout_rate': 0.1, 'weight_constraint': 2}\n",
      "0.303351 (0.005510) with: {'dropout_rate': 0.1, 'weight_constraint': 3}\n",
      "0.307885 (0.001081) with: {'dropout_rate': 0.15, 'weight_constraint': 1}\n",
      "0.305700 (0.007244) with: {'dropout_rate': 0.15, 'weight_constraint': 2}\n",
      "0.305318 (0.004492) with: {'dropout_rate': 0.15, 'weight_constraint': 3}\n"
     ]
    }
   ],
   "source": [
    "# summarize results\n",
    "print(\"Best: %f using %s\" % (grid_result.best_score_, grid_result.best_params_))\n",
    "means = grid_result.cv_results_['mean_test_score']\n",
    "stds = grid_result.cv_results_['std_test_score']\n",
    "params = grid_result.cv_results_['params']\n",
    "for mean, stdev, param in zip(means, stds, params):\n",
    "    print(\"%f (%f) with: %r\" % (mean, stdev, param))"
   ]
  },
  {
   "cell_type": "markdown",
   "metadata": {},
   "source": [
    "We can note that with a dropout rate of 0.15 and a weight constraint of 1, we achieve of a score of 0.307885.\n",
    "\n",
    "### Test on holdout\n",
    "\n",
    "Now that we've finished tuning the parameters of our model, let's take our tuned model and perform the following:\n",
    "1. Fit again on the training data\n",
    "2. Evaluate on the holdout set\n",
    "3. Plot loss/val_loss"
   ]
  },
  {
   "cell_type": "code",
   "execution_count": null,
   "metadata": {},
   "outputs": [],
   "source": [
    "# create model\n",
    "model = KerasClassifier(build_fn=create_model, verbose=0, learning_rate=0.001,\n",
    "                       kernel_initializer='glorot_normal', activation='relu',\n",
    "                       batch_size=60, epochs=125, neurons=800, dropout_rate=0.15,\n",
    "                        weight_constraint=1\n",
    "                       )\n",
    "history = model.fit(X_train_split, y_train_split, validation_split = 0.1, verbose=1)"
   ]
  },
  {
   "cell_type": "code",
   "execution_count": 25,
   "metadata": {},
   "outputs": [
    {
     "name": "stdout",
     "output_type": "stream",
     "text": [
      "112/112 [==============================] - 0s 1ms/step - loss: 0.0155\n"
     ]
    },
    {
     "data": {
      "text/plain": [
       "0.015505846589803696"
      ]
     },
     "execution_count": 25,
     "metadata": {},
     "output_type": "execute_result"
    }
   ],
   "source": [
    "model.model.evaluate(X_test_split, y_test_split)"
   ]
  },
  {
   "cell_type": "code",
   "execution_count": 26,
   "metadata": {},
   "outputs": [
    {
     "data": {
      "image/png": "[encoded data removed]",
      "text/plain": [
       "<Figure size 1440x288 with 1 Axes>"
      ]
     },
     "metadata": {},
     "output_type": "display_data"
    }
   ],
   "source": [
    "loss = history.history['loss']\n",
    "epochs = range(1, len(loss) + 1)\n",
    "\n",
    "loss = history.history['loss']\n",
    "val_loss = history.history['val_loss']\n",
    "plt.plot(epochs, loss, 'b', label='loss')\n",
    "plt.plot(epochs, val_loss, 'y', label='val_loss')\n",
    "plt.title('Training and validation - cross-entropy loss')\n",
    "plt.xlabel('Epochs')\n",
    "plt.ylabel('loss')\n",
    "plt.legend()\n",
    "plt.show()"
   ]
  },
  {
   "cell_type": "markdown",
   "metadata": {},
   "source": [
    "We can note that our model gets increasingly more biased after the 40th epoch or so. \n",
    "\n",
    "### Comparing the Tuned Model to the Baseline Model\n",
    "\n",
    "In our baseline model, we achieved a holdout loss of 0.0171. In our tuned model, we achieved an improvement in loss of 0.0155 (9.4% improvement in loss!).\n",
    "\n",
    "Here's a summary table below that details not just the scores, but the model parameters."
   ]
  },
  {
   "cell_type": "markdown",
   "metadata": {},
   "source": [
    "| Parameters                | Baseline Model \\(single layer\\) | Tuned Model \\(single layer\\) |                       |\n",
    "|---------------------|---------------------------------|------------------------------|-----------------------|\n",
    "| epochs              | 15                              | 125                          |                       |\n",
    "| batch\\_size         | 100                             | 60                           |                       |\n",
    "| neurons             | 879                             | 800                          |                       |\n",
    "| learning\\_rate      | 0\\.001                          | 0\\.001                       |                       |\n",
    "| optimizer           | adam                            | Nadam                        |                       |\n",
    "| dropout\\_rate       | 0                               | 0\\.15                        |                       |\n",
    "| weight\\_constraint  | 0                               | 1                            |                       |\n",
    "| activation          | ReLU                            | ReLU                         |                       |\n",
    "| kernal\\_initializer | uniform                         | glorot normal                |                       |\n",
    "| **holdout loss**        | **0\\.0171**                        | **0\\.0155**                      | **\\(9\\.4% improvement\\)** |"
   ]
  },
  {
   "cell_type": "markdown",
   "metadata": {},
   "source": [
    "### Resources\n",
    "I used the following articles for ideas and direction.\n",
    "https://www.kaggle.com/lane203j/methods-and-common-mistakes-for-evaluating-models\n",
    "https://www.machinelearningaptitude.com/topics/machine-learning/what-are-the-drawbacks-of-oversampling-minority-class-in-imbalanced-class-problem-of-machine-learning/#:~:text=Training%20set%20is%20further%20split,performance%20on%20the%20test%20set\n",
    "https://machinelearningmastery.com/grid-search-hyperparameters-deep-learning-models-python-keras/\n",
    "https://machinelearningmastery.com/difference-between-a-batch-and-an-epoch/"
   ]
  },
  {
   "cell_type": "markdown",
   "metadata": {},
   "source": [
    "### Misc code (LabelSet, pr-auc graphs, imblean sampling pipelines)"
   ]
  },
  {
   "cell_type": "code",
   "execution_count": null,
   "metadata": {},
   "outputs": [],
   "source": []
  },
  {
   "cell_type": "markdown",
   "metadata": {},
   "source": [
    "#### Label PowerSet\n",
    "\n",
    "This next approach assumes there is some dependency among the labels. In other words, there is some correlation between say subject A being inhibited with Drug A and Drug B. Label PowerSet essentially creates new classes based on those combinations and trains on that. The pitfall here is that if unseen data contains combinations of drug labels not seen in training, it's going to get it wrong every time.\n",
    "\n",
    "This approach is a bit more complicated. For one, I don't know how many combinations of drug inhibitions across subjects there are, and secondly, stratified k-fold might not work in this case. Let's stick with standard k-folds and compute the log loss."
   ]
  },
  {
   "cell_type": "code",
   "execution_count": 41,
   "metadata": {},
   "outputs": [],
   "source": [
    "from skmultilearn.problem_transform import LabelPowerset"
   ]
  },
  {
   "cell_type": "code",
   "execution_count": 44,
   "metadata": {},
   "outputs": [
    {
     "data": {
      "text/plain": [
       "LabelPowerset(classifier=LogisticRegression(max_iter=500),\n",
       "              require_dense=[True, True])"
      ]
     },
     "execution_count": 44,
     "metadata": {},
     "output_type": "execute_result"
    }
   ],
   "source": [
    "LabelPowerset(linear_model.LogisticRegression(max_iter=500,\n",
    "                     random_state=None,warm_start=False, n_jobs=None))"
   ]
  },
  {
   "cell_type": "code",
   "execution_count": 73,
   "metadata": {},
   "outputs": [],
   "source": [
    "train_split = pd.concat([X_train_split,y_train_split],axis=1)\n",
    "train_split_sample = train_split.sample(random_state=0, frac=0.2)\n",
    "X_train_split_sample = train_split_sample[X_train_split.columns]\n",
    "y_train_split_sample = train_split_sample[y_train_split.columns]"
   ]
  },
  {
   "cell_type": "code",
   "execution_count": 74,
   "metadata": {},
   "outputs": [
    {
     "data": {
      "text/plain": [
       "0    4284\n",
       "1       2\n",
       "Name: 5-alpha_reductase_inhibitor, dtype: int64"
      ]
     },
     "execution_count": 74,
     "metadata": {},
     "output_type": "execute_result"
    }
   ],
   "source": [
    "y_train_split_sample['5-alpha_reductase_inhibitor'].value_counts()"
   ]
  },
  {
   "cell_type": "code",
   "execution_count": 81,
   "metadata": {},
   "outputs": [
    {
     "name": "stdout",
     "output_type": "stream",
     "text": [
      "Fitting 5 folds for each of 1 candidates, totalling 5 fits\n"
     ]
    },
    {
     "name": "stderr",
     "output_type": "stream",
     "text": [
      "[Parallel(n_jobs=-1)]: Using backend LokyBackend with 12 concurrent workers.\n",
      "[Parallel(n_jobs=-1)]: Done   5 out of   5 | elapsed:  5.9min finished\n"
     ]
    },
    {
     "data": {
      "text/plain": [
       "787.1971247196198"
      ]
     },
     "execution_count": 81,
     "metadata": {},
     "output_type": "execute_result"
    }
   ],
   "source": [
    "params = [\n",
    "    {\n",
    "        'classifier': [ensemble.RandomForestClassifier(n_jobs=None)],\n",
    "        'classifier__n_estimators': [100], 'classifier__min_samples_split': [5]\n",
    "    },\n",
    "]\n",
    "\n",
    "ts = time.time()\n",
    "gcv_lp = model_selection.GridSearchCV(LabelPowerset(), params, scoring=avg_precision_wrapper, cv=5,n_jobs=-1, verbose=1)\n",
    "gcv_lp.fit(X_train_split, y_train_split)\n",
    "\n",
    "time.time()-ts"
   ]
  },
  {
   "cell_type": "code",
   "execution_count": 82,
   "metadata": {},
   "outputs": [
    {
     "data": {
      "text/plain": [
       "0.261560776492898"
      ]
     },
     "execution_count": 82,
     "metadata": {},
     "output_type": "execute_result"
    }
   ],
   "source": [
    "gcv_lp.best_score_"
   ]
  },
  {
   "cell_type": "code",
   "execution_count": 84,
   "metadata": {},
   "outputs": [],
   "source": [
    "train_probs = gcv_lp.predict_proba(X_train_split)"
   ]
  },
  {
   "cell_type": "code",
   "execution_count": 92,
   "metadata": {},
   "outputs": [],
   "source": [
    "train_probs_df = pd.DataFrame(train_probs.toarray(), columns=moas)"
   ]
  },
  {
   "cell_type": "code",
   "execution_count": 97,
   "metadata": {},
   "outputs": [
    {
     "data": {
      "text/html": [
       "<div>\n",
       "<style scoped>\n",
       "    .dataframe tbody tr th:only-of-type {\n",
       "        vertical-align: middle;\n",
       "    }\n",
       "\n",
       "    .dataframe tbody tr th {\n",
       "        vertical-align: top;\n",
       "    }\n",
       "\n",
       "    .dataframe thead th {\n",
       "        text-align: right;\n",
       "    }\n",
       "</style>\n",
       "<table border=\"1\" class=\"dataframe\">\n",
       "  <thead>\n",
       "    <tr style=\"text-align: right;\">\n",
       "      <th></th>\n",
       "      <th>5-alpha_reductase_inhibitor</th>\n",
       "      <th>11-beta-hsd1_inhibitor</th>\n",
       "      <th>acat_inhibitor</th>\n",
       "      <th>acetylcholine_receptor_agonist</th>\n",
       "      <th>acetylcholine_receptor_antagonist</th>\n",
       "      <th>acetylcholinesterase_inhibitor</th>\n",
       "      <th>adenosine_receptor_agonist</th>\n",
       "      <th>adenosine_receptor_antagonist</th>\n",
       "      <th>adenylyl_cyclase_activator</th>\n",
       "      <th>adrenergic_receptor_agonist</th>\n",
       "      <th>...</th>\n",
       "      <th>tropomyosin_receptor_kinase_inhibitor</th>\n",
       "      <th>trpv_agonist</th>\n",
       "      <th>trpv_antagonist</th>\n",
       "      <th>tubulin_inhibitor</th>\n",
       "      <th>tyrosine_kinase_inhibitor</th>\n",
       "      <th>ubiquitin_specific_protease_inhibitor</th>\n",
       "      <th>vegfr_inhibitor</th>\n",
       "      <th>vitamin_b</th>\n",
       "      <th>vitamin_d_receptor_agonist</th>\n",
       "      <th>wnt_inhibitor</th>\n",
       "    </tr>\n",
       "  </thead>\n",
       "  <tbody>\n",
       "    <tr>\n",
       "      <th>8391</th>\n",
       "      <td>0.502167</td>\n",
       "      <td>0.0</td>\n",
       "      <td>0.0</td>\n",
       "      <td>0.007857</td>\n",
       "      <td>0.013214</td>\n",
       "      <td>0.004286</td>\n",
       "      <td>0.0</td>\n",
       "      <td>0.003333</td>\n",
       "      <td>0.0</td>\n",
       "      <td>0.012500</td>\n",
       "      <td>...</td>\n",
       "      <td>0.0</td>\n",
       "      <td>0.0</td>\n",
       "      <td>0.0</td>\n",
       "      <td>0.0000</td>\n",
       "      <td>0.0</td>\n",
       "      <td>0.0</td>\n",
       "      <td>0.005000</td>\n",
       "      <td>0.0</td>\n",
       "      <td>0.0</td>\n",
       "      <td>0.0000</td>\n",
       "    </tr>\n",
       "    <tr>\n",
       "      <th>13862</th>\n",
       "      <td>0.528310</td>\n",
       "      <td>0.0</td>\n",
       "      <td>0.0</td>\n",
       "      <td>0.007500</td>\n",
       "      <td>0.007500</td>\n",
       "      <td>0.000000</td>\n",
       "      <td>0.0</td>\n",
       "      <td>0.007500</td>\n",
       "      <td>0.0</td>\n",
       "      <td>0.003333</td>\n",
       "      <td>...</td>\n",
       "      <td>0.0</td>\n",
       "      <td>0.0</td>\n",
       "      <td>0.0</td>\n",
       "      <td>0.0025</td>\n",
       "      <td>0.0</td>\n",
       "      <td>0.0</td>\n",
       "      <td>0.004167</td>\n",
       "      <td>0.0</td>\n",
       "      <td>0.0</td>\n",
       "      <td>0.0025</td>\n",
       "    </tr>\n",
       "  </tbody>\n",
       "</table>\n",
       "<p>2 rows × 206 columns</p>\n",
       "</div>"
      ],
      "text/plain": [
       "       5-alpha_reductase_inhibitor  11-beta-hsd1_inhibitor  acat_inhibitor  \\\n",
       "8391                      0.502167                     0.0             0.0   \n",
       "13862                     0.528310                     0.0             0.0   \n",
       "\n",
       "       acetylcholine_receptor_agonist  acetylcholine_receptor_antagonist  \\\n",
       "8391                         0.007857                           0.013214   \n",
       "13862                        0.007500                           0.007500   \n",
       "\n",
       "       acetylcholinesterase_inhibitor  adenosine_receptor_agonist  \\\n",
       "8391                         0.004286                         0.0   \n",
       "13862                        0.000000                         0.0   \n",
       "\n",
       "       adenosine_receptor_antagonist  adenylyl_cyclase_activator  \\\n",
       "8391                        0.003333                         0.0   \n",
       "13862                       0.007500                         0.0   \n",
       "\n",
       "       adrenergic_receptor_agonist  ...  \\\n",
       "8391                      0.012500  ...   \n",
       "13862                     0.003333  ...   \n",
       "\n",
       "       tropomyosin_receptor_kinase_inhibitor  trpv_agonist  trpv_antagonist  \\\n",
       "8391                                     0.0           0.0              0.0   \n",
       "13862                                    0.0           0.0              0.0   \n",
       "\n",
       "       tubulin_inhibitor  tyrosine_kinase_inhibitor  \\\n",
       "8391              0.0000                        0.0   \n",
       "13862             0.0025                        0.0   \n",
       "\n",
       "       ubiquitin_specific_protease_inhibitor  vegfr_inhibitor  vitamin_b  \\\n",
       "8391                                     0.0         0.005000        0.0   \n",
       "13862                                    0.0         0.004167        0.0   \n",
       "\n",
       "       vitamin_d_receptor_agonist  wnt_inhibitor  \n",
       "8391                          0.0         0.0000  \n",
       "13862                         0.0         0.0025  \n",
       "\n",
       "[2 rows x 206 columns]"
      ]
     },
     "execution_count": 97,
     "metadata": {},
     "output_type": "execute_result"
    }
   ],
   "source": [
    "train_probs_df[train_probs_df['5-alpha_reductase_inhibitor'] > 0.5]"
   ]
  },
  {
   "cell_type": "code",
   "execution_count": 98,
   "metadata": {},
   "outputs": [
    {
     "data": {
      "text/plain": [
       "0.26165658179102513"
      ]
     },
     "execution_count": 98,
     "metadata": {},
     "output_type": "execute_result"
    }
   ],
   "source": [
    "gcv_lp.score(X_test_split, y_test_split)"
   ]
  },
  {
   "cell_type": "markdown",
   "metadata": {},
   "source": [
    "*Note to self - Next steps: *\n",
    "1. do gcv_lp.predict_proba(X) to get p and r values for all of X. Plot pr curve.\n",
    "2. Talk about how/why this LP method is better and already shows improvement in score.\n",
    "3. Look at first drug and calc it's TP.\n",
    "4. Do HPT with random forest and see what can be achieved. Make sure to **return train scores** as well (and check with cv_results_ after fit and look at bias/variance tradeoff)\n",
    "5. Can we get xgboost to work here?"
   ]
  },
  {
   "cell_type": "code",
   "execution_count": null,
   "metadata": {},
   "outputs": [],
   "source": [
    "lr_pipeline_LP  = pipeline.Pipeline([('scaler', MinMaxScaler()), ('clf', LabelPowerset(linear_model.LogisticRegression(C=1.0,solver='sag',max_iter = 1000,n_jobs=-1)))])\n",
    "params = {'C':[1, 10]}\n",
    "model_selection.GridSearchCV(lr_pipeline_LP, params, scoring=metrics.average_precision_score, cv=3)"
   ]
  },
  {
   "cell_type": "code",
   "execution_count": 20,
   "metadata": {},
   "outputs": [],
   "source": [
    "probs = lr_pipeline_LP.predict_proba(X_encoded_sample.drop('sig_id',axis=1))"
   ]
  },
  {
   "cell_type": "code",
   "execution_count": 21,
   "metadata": {},
   "outputs": [],
   "source": [
    "import scipy.sparse\n",
    "probs_df = pd.DataFrame.sparse.from_spmatrix(probs, columns=y_sample.columns)"
   ]
  },
  {
   "cell_type": "code",
   "execution_count": 31,
   "metadata": {},
   "outputs": [
    {
     "name": "stdout",
     "output_type": "stream",
     "text": [
      "Average precision score, micro-averaged over all classes: 0.80\n"
     ]
    }
   ],
   "source": [
    "# For each class\n",
    "precision = dict()\n",
    "recall = dict()\n",
    "average_precision = dict()\n",
    "for col in probs_df.columns[3:4]:\n",
    "    precision[col], recall[col], _ = metrics.precision_recall_curve(y_sample[col],\n",
    "                                                        probs_df[col])\n",
    "    average_precision[col] = metrics.average_precision_score(y_sample[col], probs_df[col])\n",
    "\n",
    "# A \"micro-average\": quantifying score on all classes jointly\n",
    "precision[\"micro\"], recall[\"micro\"], _ = metrics.precision_recall_curve(y_sample.values.ravel(),\n",
    "    probs_df.values.ravel())\n",
    "average_precision[\"micro\"] = metrics.average_precision_score(np.array(y_sample), np.array(probs_df),\n",
    "                                                     average=\"micro\")\n",
    "print('Average precision score, micro-averaged over all classes: {0:0.2f}'\n",
    "      .format(average_precision[\"micro\"]))"
   ]
  },
  {
   "cell_type": "code",
   "execution_count": 32,
   "metadata": {},
   "outputs": [
    {
     "data": {
      "text/plain": [
       "0.8022297854833816"
      ]
     },
     "execution_count": 32,
     "metadata": {},
     "output_type": "execute_result"
    }
   ],
   "source": [
    "metrics.auc(recall[\"micro\"], precision[\"micro\"])"
   ]
  },
  {
   "cell_type": "code",
   "execution_count": 33,
   "metadata": {},
   "outputs": [
    {
     "data": {
      "text/plain": [
       "0.8022647408631559"
      ]
     },
     "execution_count": 33,
     "metadata": {},
     "output_type": "execute_result"
    }
   ],
   "source": [
    "average_precision[\"micro\"]"
   ]
  },
  {
   "cell_type": "code",
   "execution_count": 25,
   "metadata": {},
   "outputs": [
    {
     "data": {
      "text/plain": [
       "Text(0.5, 1.0, 'Average precision score, micro-averaged over all classes: AP=0.80')"
      ]
     },
     "execution_count": 25,
     "metadata": {},
     "output_type": "execute_result"
    },
    {
     "data": {
      "image/png": "[encoded data removed]",
      "text/plain": [
       "<Figure size 1440x288 with 1 Axes>"
      ]
     },
     "metadata": {},
     "output_type": "display_data"
    }
   ],
   "source": [
    "plt.step(recall['micro'], precision['micro'], where='post')\n",
    "\n",
    "plt.xlabel('Recall')\n",
    "plt.ylabel('Precision')\n",
    "plt.ylim([0.0, 1.05])\n",
    "plt.xlim([0.0, 1.0])\n",
    "plt.title(\n",
    "    'Average precision score, micro-averaged over all classes: AP={0:0.2f}'\n",
    "    .format(average_precision[\"micro\"]))"
   ]
  }
 ],
 "metadata": {
  "kernelspec": {
   "display_name": "Python 3",
   "language": "python",
   "name": "python3"
  },
  "language_info": {
   "codemirror_mode": {
    "name": "ipython",
    "version": 3
   },
   "file_extension": ".py",
   "mimetype": "text/x-python",
   "name": "python",
   "nbconvert_exporter": "python",
   "pygments_lexer": "ipython3",
   "version": "3.8.3"
  }
 },
 "nbformat": 4,
 "nbformat_minor": 4
}
